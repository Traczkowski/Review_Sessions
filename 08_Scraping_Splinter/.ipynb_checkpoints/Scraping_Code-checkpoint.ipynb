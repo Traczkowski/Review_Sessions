{
 "cells": [
  {
   "cell_type": "markdown",
   "metadata": {},
   "source": [
    "## A broader conversation on webscraping\n",
    "\n",
    "#### This week, we'll want to take some time talking a little bit more about the process of webscraping and adding some more context on why we would do so. We'll be doing this by taking a peek around engadget.com"
   ]
  },
  {
   "cell_type": "markdown",
   "metadata": {},
   "source": [
    "### 1. The first thing that we want to do is take a look at the robots.txt to understand a little more about what we can and can't do on this page. NOTE: we are doing this without splinter\n",
    "\n",
    "- https://moz.com/learn/seo/robotstxt\n",
    "\n",
    "- https://www.engadget.com/robots.txt\n",
    "\n",
    "- We'll also take a moment to talk about using the robots.txt to decision about how your scraper is going to work.\n",
    "\n",
    "#### Theoretically, you can use the robots.txt to do a lot of things to make your scraper more compliant, as we've talked about before, take a bit of time to familiarize yourself with how to use these.\n",
    "\n",
    "- We'll also take a quick look at the sitemap and briefly describe how that is used.\n",
    "\n",
    "- https://www.engadget.com/sitemap.xml\n",
    "\n",
    "- https://www.searchenginejournal.com/technical-seo/xml-sitemaps/\n",
    "\n",
    "#### We will also very briefly discuss crawling a website,\n",
    "\n",
    "- This is something that you'll also want to read into, it is a sort of more organized scraping, but whenever you do either make sure that you are being fair to whoever is serving the pages and following their recommendations to the best of your abilities.\n",
    "\n",
    "- https://www.cloudflare.com/learning/bots/what-is-a-web-crawler/"
   ]
  },
  {
   "cell_type": "code",
   "execution_count": 1,
   "metadata": {},
   "outputs": [],
   "source": [
    "import urllib"
   ]
  },
  {
   "cell_type": "code",
   "execution_count": 2,
   "metadata": {},
   "outputs": [
    {
     "data": {
      "text/plain": [
       "<bound method Tag.prettify of User-agent: *\n",
       "Sitemap: https://www.engadget.com/sitemap.xml\n",
       "Sitemap: https://www.engadget.com/sitemaps/engadget-sitemap_index_US_en-US.xml.gz\n",
       "Sitemap: https://www.engadget.com/sitemaps/engadget-sitemap_googlenewsindex_US_en-US.xml.gz\n",
       "Sitemap: https://www.engadget.com/sitemaps/engadget-sitemap_googlenews_US_en-US.xml.gz\n",
       "Disallow: /forward\n",
       "Disallow: /traffic\n",
       "Disallow: /mm_track\n",
       "Disallow: /tag/expire-images*\n",
       "Disallow: /_uac/adpage.html>"
      ]
     },
     "metadata": {},
     "output_type": "display_data"
    },
    {
     "data": {
      "text/plain": [
       "\"Good news! We can continue scraping, but there are some paths we will avoid! The updated page_list is ['/homepage']\""
      ]
     },
     "execution_count": 2,
     "metadata": {},
     "output_type": "execute_result"
    }
   ],
   "source": [
    "import requests\n",
    "from bs4 import BeautifulSoup\n",
    "from splinter import Browser\n",
    "from bs4 import BeautifulSoup\n",
    "\n",
    "html_code = requests.get('http://engadget.com/robots.txt')\n",
    "soup = BeautifulSoup(html_code.content, 'html.parser')\n",
    "page_list = ['/homepage', '/forward', '/traffic']\n",
    "\n",
    "display(soup.prettify)\n",
    "\n",
    "def check_robots(html_input):\n",
    "    checktext = 'User-agent: *\\r\\nSitemap: https://www.engadget.com/sitemap.xml\\r\\nSitemap: https://www.engadget.com/sitemaps/engadget-sitemap_index_US_en-US.xml.gz\\r\\nSitemap: https://www.engadget.com/sitemaps/engadget-sitemap_googlenewsindex_US_en-US.xml.gz\\r\\nSitemap: https://www.engadget.com/sitemaps/engadget-sitemap_googlenews_US_en-US.xml.gz\\r\\nDisallow: /forward\\r\\nDisallow: /traffic\\r\\nDisallow: /mm_track\\r\\nDisallow: /tag/expire-images*\\r\\nDisallow: /_uac/adpage.html'\n",
    "    \n",
    "    if checktext == html_input:\n",
    "        page_list = ['/homepage']\n",
    "        return(f'Good news! We can continue scraping, but there are some paths we will avoid! The updated page_list is {page_list}')\n",
    "    else:\n",
    "        return(\"\"\"Make sure that you are able to read in and check out the robots.txt! The current version doesn't appear to match our records\"\"\")\n",
    "\n",
    "    \n",
    "check_robots(str(soup))\n"
   ]
  },
  {
   "cell_type": "markdown",
   "metadata": {},
   "source": [
    "### 2. The next thing we'll want to do is collect some information from the homepage of Engadget.\n",
    "\n",
    "- We're going to be looking at some of the main elements on the homepage.\n",
    "\n",
    "- Will want to look at the actual soup that we'll be looking through at this point as well.\n",
    "\n",
    "- First, we will want to get the article names as well as the names of the people writing those articles."
   ]
  },
  {
   "cell_type": "code",
   "execution_count": 3,
   "metadata": {},
   "outputs": [],
   "source": [
    "executable_path = {'executable_path' : '/usr/local/bin/chromedriver'}\n",
    "browser = Browser('chrome', **executable_path, headless = False)\n",
    "\n",
    "browser.visit('http://engadget.com')\n",
    "html_code = browser.html\n",
    "soup = BeautifulSoup(html_code, 'html.parser')"
   ]
  },
  {
   "cell_type": "code",
   "execution_count": 4,
   "metadata": {
    "collapsed": true,
    "jupyter": {
     "outputs_hidden": true
    }
   },
   "outputs": [
    {
     "data": {
      "text/plain": [
       "<div class=\"grid__cell col-12-of-15 col-15-of-15@tl- grid-divider@d\" data-ylk=\"sec:dl;itc:0\" id=\"engadget-main-dl\">\n",
       "<div class=\"grid-divider-el bc-gray-2 h-85@tl- h-160@d hide@tl-\"></div>\n",
       "<div class=\"grid flex@tl+\">\n",
       "<!-- primary column -->\n",
       "<div class=\"grid__cell col-8-of-12 col-12-of-12@tp-\">\n",
       "<!-- feature-listing-primary-alt -->\n",
       "<article class=\"o-hit\">\n",
       "<!-- rating-thumb --><div class=\"o-rating_thumb c-white\">\n",
       "<div>\n",
       "<img alt=\"Lenovo Chromebook Duet review: A surprisingly solid tablet experience\" class=\"stretch-img\" src=\"https://s.yimg.com/os/creatr-uploaded-images/2020-05/c5c21420-9f67-11ea-abfe-b5a8440aeaad\"/>\n",
       "<!-- slideshow-count -->\n",
       "<svg class=\"absolute l-0 b-0 slideshow-icon\" xmlns=\"http://www.w3.org/2000/svg\"><use xlink:href=\"#icon-slideshow\" xmlns:xlink=\"http://www.w3.org/1999/xlink\"></use></svg>\n",
       "<div class=\"t-meta absolute l-55 b-20 font-alias\">\n",
       "        15\n",
       "    </div>\n",
       "<div class=\"absolute l-0 b-0 b-55@s\"></div>\n",
       "</div>\n",
       "<div class=\"o-rating_thumb__rating b-25@m- z-3\"><!-- rating -->\n",
       "<div class=\"o-rating bg-rating-70 c-white \">\n",
       "<div class=\"o-rating__inner t-rating-large\">\n",
       "    79\n",
       "  </div>\n",
       "</div>\n",
       "</div></div>\n",
       "<div class=\"pt-20@tl+\">\n",
       "<!-- listing-body -->\n",
       "<div class=\" o-feed_listing@tp- o-feed_bleed@m-\" data-feed-container=\"\">\n",
       "<div class=\" o-feed_listing@tp-__mid\">\n",
       "<div class=\"mt-0@m- pr-20@m- mr-0@m- mt-n11@tl+ o-feed_listing@tp-__inner th-base@tp- break-left@m- \">\n",
       "<h2 class=\"t-h4@s t-h3@m t-h2-b@tp t-h1-b@tl+ mt-10@tp mt-20@tl+ \">\n",
       "<span class=\"th-underline\">\n",
       "      Lenovo Chromebook Duet review: A surprisingly solid tablet experience\n",
       "  </span>\n",
       "</h2>\n",
       "<div class=\"hide@s mt-10@s\">\n",
       "<p class=\"t-d5@m- t-d3-c@tp t-d1@tl+ mt-15\">But it's much better as a laptop.</p>\n",
       "</div>\n",
       "<div class=\"mt-20@s\">\n",
       "<!-- listing-meta-bar -->\n",
       "<div class=\" o-listing_right_action_offset@tp mr-n20@m-\">\n",
       "<div class=\"table@tp+ mt-20@m+ th-meta\">\n",
       "<div class=\"relative inline-block table-cell@tp\">\n",
       "<a data-rapid_p=\"1\" data-v9y=\"1\" data-ylk=\"slk:Nathan%20Ingraham;pos:1;cpos:1;elm:img;subsec:author;\" href=\"/about/editors/nathan-ingraham/\">\n",
       "<img class=\"vc circle-mask absolute l-0 \" height=\"30px\" src=\"https://o.aolcdn.com/images/dims?thumbnail=30%2C30&amp;quality=70&amp;image_uri=https%3A%2F%2Fs.yimg.com%2Fuu%2Fapi%2Fres%2F1.2%2FKDPNKi2quaEStzz2SR78Sw--%7EB%2FaD0xMjAwO3c9MTIwMDthcHBpZD15dGFjaHlvbg--%2Fhttps%3A%2F%2Fs.blogcdn.com%2Fwww.engadget.com%2Fmedia%2F2017%2F08%2Funnamed.jpg&amp;client=amp-blogside-v2&amp;signature=ebba7bd501c6f716e81d996fac118313a4c717aa\" width=\"30px\"/>\n",
       "</a>\n",
       "<div class=\"h-1 w-40 inline-block \"></div>\n",
       "<span class=\"t-meta pb-0 vt mt-5@tp+ w-185@m mr-10@tp+ pt-20@m- \">\n",
       "<span class=\"hide@m-\">By </span>\n",
       "<span><a class=\"th-meta\" data-rapid_p=\"2\" data-v9y=\"1\" data-ylk=\"slk:Nathan%20Ingraham;pos:2;cpos:1;elm:link;\" href=\"/about/editors/nathan-ingraham\">N. Ingraham</a></span><span class=\"hide@m-\">, </span><span class=\"\">\n",
       "                 16h ago</span></span> </div>\n",
       "<div class=\"inline-block@tp+ relative@tp+ t-2@tp+ o-feed_share@m- mt-5@m ta-r@tp table-cell@tp\" style=\"vertical-align: -2px\"> <!-- share-macro -->\n",
       "<div class=\"o-feed_share@m-__item icon-divider@tp+ relative i-share_overlay\" data-behavior=\"ShareOverlay\">\n",
       "<div class=\"bg-gray-2 o-share_ui i-share_overlay__over o-h\" data-share-overlay-over=\"\" style=\"height: 0px;\">\n",
       "<div style=\"padding-top: 8px\">\n",
       "<div class=\"icon-20-line-height\">\n",
       "<a class=\"c-white:hvr block o-share_ui__item sharebtn twitter-share\" data-behavior=\"Pop\" data-engadget-h=\"430\" data-engadget-pop-w=\"670\" data-engadget-popname=\"engadget_share\" data-rapid_p=\"3\" data-v9y=\"1\" data-ylk=\"slk:twitter;elm:share;tar:https://twitter.com;\" href=\"https://twitter.com/share?url=https%3A%2F%2Fwww.engadget.com%2Flenovo-chromebook-duet-review-150018759.html&amp;text=Lenovo%20Chromebook%20Duet%20review%3A%20A%20surprisingly%20solid%20tablet%20experience&amp;via=engadget\" rel=\"noopener noreferrer\" target=\"_blank\">\n",
       "<svg class=\"inline-block icon vm\" xmlns=\"http://www.w3.org/2000/svg\"><use xlink:href=\"#icon-twitter\" xmlns:xlink=\"http://www.w3.org/1999/xlink\"></use></svg>\n",
       "</a>\n",
       "</div>\n",
       "<div class=\"icon-20-line-height\">\n",
       "<a class=\"c-white:hvr block o-share_ui__item sharebtn facebook-share\" data-behavior=\"Pop\" data-engadget-h=\"636\" data-engadget-pop-w=\"560\" data-engadget-popname=\"engadget_share\" data-rapid_p=\"4\" data-v9y=\"1\" data-ylk=\"slk:facebook;elm:share;tar:https://facebook.com;\" href=\"https://www.facebook.com/dialog/share?app_id=132746074315&amp;display=popup&amp;href=https%3A%2F%2Fwww.engadget.com%2Flenovo-chromebook-duet-review-150018759.html\" rel=\"noopener noreferrer\" target=\"_blank\">\n",
       "<svg class=\"inline-block icon vm\" xmlns=\"http://www.w3.org/2000/svg\"><use xlink:href=\"#icon-facebook\" xmlns:xlink=\"http://www.w3.org/1999/xlink\"></use></svg>\n",
       "</a>\n",
       "</div>\n",
       "<div class=\"icon-20-line-height\">\n",
       "<a class=\"c-white:hvr block o-share_ui__item sharebtn reddit-share\" data-behavior=\"Pop\" data-engadget-h=\"750\" data-engadget-pop-w=\"960\" data-engadget-popname=\"engadget_share\" data-rapid_p=\"5\" data-v9y=\"1\" data-ylk=\"slk:reddit;elm:share;tar:https://reddit.com;\" href=\"https://www.reddit.com/submit?url=https%3A%2F%2Fwww.engadget.com%2Flenovo-chromebook-duet-review-150018759.html&amp;title=Lenovo%20Chromebook%20Duet%20review%3A%20A%20surprisingly%20solid%20tablet%20experience\" rel=\"noopener noreferrer\" target=\"_blank\">\n",
       "<svg class=\"inline-block icon vm\" xmlns=\"http://www.w3.org/2000/svg\"><use xlink:href=\"#icon-reddit\" xmlns:xlink=\"http://www.w3.org/1999/xlink\"></use></svg>\n",
       "</a>\n",
       "</div>\n",
       "<div class=\"icon-20-line-height\">\n",
       "<a class=\"c-white:hvr block o-share_ui__item\" data-behavior=\"Pop\" data-rapid_p=\"6\" data-v9y=\"1\" data-ylk=\"slk:email;elm:share;\" href=\"mailto:?subject=Lenovo%20Chromebook%20Duet%20review%3A%20A%20surprisingly%20solid%20tablet%20experience via Engadget&amp;body=https%3A%2F%2Fwww.engadget.com%2Flenovo-chromebook-duet-review-150018759.html\" rel=\"noopener noreferrer\" target=\"_blank\">\n",
       "<svg class=\"inline-block icon vm\" xmlns=\"http://www.w3.org/2000/svg\"><use xlink:href=\"#icon-email\" xmlns:xlink=\"http://www.w3.org/1999/xlink\"></use></svg>\n",
       "</a>\n",
       "</div>\n",
       "</div>\n",
       "</div>\n",
       "<div class=\"relative i-share_overlay__btn full-height\" data-share-overlay-btn=\"\">\n",
       "<!-- listing-action -->\n",
       "<a class=\" c-white:hvr! c-inherit-*:hvr vc@tp+ ml-a@m- icon th-meta increase-hit c-white:hvr! c-inherit-*:hvr\" data-rapid_p=\"7\" data-v9y=\"1\" href=\"javascript:;\" rel=\"noopener noreferrer\">\n",
       "<span class=\"increase-hit__inner contain block full-height\">\n",
       "<svg aria-label=\"share\" class=\"icon contain__inner th-meta__icon\" role=\"img\" xmlns=\"http://www.w3.org/2000/svg\">\n",
       "<title>share</title>\n",
       "<use xlink:href=\"#icon-share\" xmlns:xlink=\"http://www.w3.org/1999/xlink\"></use>\n",
       "</svg>\n",
       "</span>\n",
       "</a>\n",
       "</div>\n",
       "</div>\n",
       "</div>\n",
       "</div>\n",
       "</div>\n",
       "</div>\n",
       "</div>\n",
       "</div>\n",
       "</div>\n",
       "</div>\n",
       "<a class=\"o-hit__link\" data-rapid_p=\"8\" data-v9y=\"1\" data-ylk=\"cpos:1;slk:Lenovo%20Chromebook%20Duet%20review%3A%20A%20surprisingly%20solid%20tablet%20experience;elm:hdln;aid:engadget_479%3Dbsd%3A7eb31ab2-2ad0-3c69-bb1a-bd8a678fc079;\" href=\"/lenovo-chromebook-duet-review-150018759.html?utm_campaign=homepage&amp;utm_medium=internal&amp;utm_source=dl\">View</a>\n",
       "</article>\n",
       "<!-- bottom primary column -->\n",
       "<div class=\"grid\">\n",
       "<div class=\"grid__cell pt-15@tp+ col-12-of-12 col-12-of-12@tp-\">\n",
       "<div class=\"grid\">\n",
       "<div class=\"grid__cell mt-25 col-4-of-8 col-1-of-2@tp col-12-of-12@m- \">\n",
       "<!-- feature-listing-secondary -->\n",
       "<article class=\"o-hit pb-10@tp+ \">\n",
       "<!-- rating-thumb --><div class=\"o-rating_thumb c-white\">\n",
       "<img alt=\"Philips Hue leaks show new versatility for Lightstrip Plus and Bloom\" class=\"stretch-img\" src=\"https://s.yimg.com/os/creatr-uploaded-images/2020-05/a43bb2b0-9f4f-11ea-9f97-16adc26ef4a0\"/>\n",
       "<div class=\"o-rating_thumb__rating b-75@m- z-3\"><!-- rating -->\n",
       "</div></div>\n",
       "<div class=\"pt-20@tp+\">\n",
       "<!-- listing-body -->\n",
       "<div class=\" o-feed_listing@m- o-feed_bleed@m-\" data-feed-container=\"\">\n",
       "<div class=\" o-feed_listing@m-__mid\">\n",
       "<div class=\"mt-0@m- pr-20@m- mr-0@m- mt-n11@tl+ o-feed_listing@m-__inner th-base@m- break-left@m- \">\n",
       "<h2 class=\"t-h4@s t-h3@m t-h3-b@tp t-h4@tl t-h3-b@d mt-10@m+\">\n",
       "<span class=\"th-underline\">Philips Hue leaks show new versatility for Lightstrip Plus and Bloom</span>\n",
       "</h2>\n",
       "<div class=\"hide@s mt-10@s\">\n",
       "</div>\n",
       "<div class=\"mt-20@s\">\n",
       "<!-- listing-meta-bar -->\n",
       "<div class=\" mr-n20@m-\">\n",
       "<div class=\"table@tp+ mt-10@m+ th-meta\">\n",
       "<div class=\"relative inline-block table-cell@tl\">\n",
       "<a data-rapid_p=\"9\" data-v9y=\"1\" data-ylk=\"slk:Rachel%20England;pos:1;cpos:1;elm:img;subsec:author;\" href=\"/about/editors/rachel-england/\">\n",
       "<img class=\"vc circle-mask absolute l-0 hide@tl\" height=\"30px\" src=\"https://o.aolcdn.com/images/dims?thumbnail=30%2C30&amp;quality=70&amp;image_uri=https%3A%2F%2Fs.yimg.com%2Fuu%2Fapi%2Fres%2F1.2%2FCgDx8m8hVGikb10qqLzgSw--%7EB%2FaD0yMDA7dz0yMDA7YXBwaWQ9eXRhY2h5b24-%2Fhttps%3A%2F%2Fs.blogcdn.com%2Fwww.engadget.com%2Fmedia%2F2017%2F06%2Frachelengland-300x300.jpg&amp;client=amp-blogside-v2&amp;signature=78f3739e45c39ef63ac05f4a5bc70f5207f0c684\" width=\"30px\"/>\n",
       "</a>\n",
       "<div class=\"h-1 w-40 inline-block hide@tl\"></div>\n",
       "<span class=\"t-meta pb-0 vt mt-5@tp+ w-185@m mr-10@tp+ pt-20@m- \">\n",
       "<span class=\"hide@m-\">By </span>\n",
       "<span><a class=\"th-meta\" data-rapid_p=\"10\" data-v9y=\"1\" data-ylk=\"slk:Rachel%20England;pos:2;cpos:1;elm:link;\" href=\"/about/editors/rachel-england\">R. England</a></span><span class=\"hide@m-\">, </span><span class=\"\">\n",
       "                 19h ago</span></span> </div>\n",
       "<div class=\"inline-block@tp+ relative@tp+ t-2@tp+ o-feed_share@m- mt-5@m ta-r@tl table-cell@tl\" style=\"vertical-align: -2px\"> <!-- share-macro -->\n",
       "<div class=\"o-feed_share@m-__item icon-divider@tp+ relative i-share_overlay\" data-behavior=\"ShareOverlay\">\n",
       "<div class=\"bg-gray-2 o-share_ui i-share_overlay__over o-h\" data-share-overlay-over=\"\" style=\"height: 0px;\">\n",
       "<div style=\"padding-top: 8px\">\n",
       "<div class=\"icon-20-line-height\">\n",
       "<a class=\"c-white:hvr block o-share_ui__item sharebtn twitter-share\" data-behavior=\"Pop\" data-engadget-h=\"430\" data-engadget-pop-w=\"670\" data-engadget-popname=\"engadget_share\" data-rapid_p=\"11\" data-v9y=\"1\" data-ylk=\"slk:twitter;elm:share;tar:https://twitter.com;\" href=\"https://twitter.com/share?url=https%3A%2F%2Fwww.engadget.com%2Fphilips-hue-leaks-show-new-versatility-for-lightstrip-plus-and-bloom-122939725.html&amp;text=Philips%20Hue%20leaks%20show%20new%20versatility%20for%20Lightstrip%20Plus%20and%20Bloom&amp;via=engadget\" rel=\"noopener noreferrer\" target=\"_blank\">\n",
       "<svg class=\"inline-block icon vm\" xmlns=\"http://www.w3.org/2000/svg\"><use xlink:href=\"#icon-twitter\" xmlns:xlink=\"http://www.w3.org/1999/xlink\"></use></svg>\n",
       "</a>\n",
       "</div>\n",
       "<div class=\"icon-20-line-height\">\n",
       "<a class=\"c-white:hvr block o-share_ui__item sharebtn facebook-share\" data-behavior=\"Pop\" data-engadget-h=\"636\" data-engadget-pop-w=\"560\" data-engadget-popname=\"engadget_share\" data-rapid_p=\"12\" data-v9y=\"1\" data-ylk=\"slk:facebook;elm:share;tar:https://facebook.com;\" href=\"https://www.facebook.com/dialog/share?app_id=132746074315&amp;display=popup&amp;href=https%3A%2F%2Fwww.engadget.com%2Fphilips-hue-leaks-show-new-versatility-for-lightstrip-plus-and-bloom-122939725.html\" rel=\"noopener noreferrer\" target=\"_blank\">\n",
       "<svg class=\"inline-block icon vm\" xmlns=\"http://www.w3.org/2000/svg\"><use xlink:href=\"#icon-facebook\" xmlns:xlink=\"http://www.w3.org/1999/xlink\"></use></svg>\n",
       "</a>\n",
       "</div>\n",
       "<div class=\"icon-20-line-height\">\n",
       "<a class=\"c-white:hvr block o-share_ui__item sharebtn reddit-share\" data-behavior=\"Pop\" data-engadget-h=\"750\" data-engadget-pop-w=\"960\" data-engadget-popname=\"engadget_share\" data-rapid_p=\"13\" data-v9y=\"1\" data-ylk=\"slk:reddit;elm:share;tar:https://reddit.com;\" href=\"https://www.reddit.com/submit?url=https%3A%2F%2Fwww.engadget.com%2Fphilips-hue-leaks-show-new-versatility-for-lightstrip-plus-and-bloom-122939725.html&amp;title=Philips%20Hue%20leaks%20show%20new%20versatility%20for%20Lightstrip%20Plus%20and%20Bloom\" rel=\"noopener noreferrer\" target=\"_blank\">\n",
       "<svg class=\"inline-block icon vm\" xmlns=\"http://www.w3.org/2000/svg\"><use xlink:href=\"#icon-reddit\" xmlns:xlink=\"http://www.w3.org/1999/xlink\"></use></svg>\n",
       "</a>\n",
       "</div>\n",
       "<div class=\"icon-20-line-height\">\n",
       "<a class=\"c-white:hvr block o-share_ui__item\" data-behavior=\"Pop\" data-rapid_p=\"14\" data-v9y=\"1\" data-ylk=\"slk:email;elm:share;\" href=\"mailto:?subject=Philips%20Hue%20leaks%20show%20new%20versatility%20for%20Lightstrip%20Plus%20and%20Bloom via Engadget&amp;body=https%3A%2F%2Fwww.engadget.com%2Fphilips-hue-leaks-show-new-versatility-for-lightstrip-plus-and-bloom-122939725.html\" rel=\"noopener noreferrer\" target=\"_blank\">\n",
       "<svg class=\"inline-block icon vm\" xmlns=\"http://www.w3.org/2000/svg\"><use xlink:href=\"#icon-email\" xmlns:xlink=\"http://www.w3.org/1999/xlink\"></use></svg>\n",
       "</a>\n",
       "</div>\n",
       "</div>\n",
       "</div>\n",
       "<div class=\"relative i-share_overlay__btn full-height\" data-share-overlay-btn=\"\">\n",
       "<!-- listing-action -->\n",
       "<a class=\" c-white:hvr! c-inherit-*:hvr vc@tp+ ml-a@m- icon th-meta increase-hit c-white:hvr! c-inherit-*:hvr\" data-rapid_p=\"15\" data-v9y=\"1\" href=\"javascript:;\" rel=\"noopener noreferrer\">\n",
       "<span class=\"increase-hit__inner contain block full-height\">\n",
       "<svg aria-label=\"share\" class=\"icon contain__inner th-meta__icon\" role=\"img\" xmlns=\"http://www.w3.org/2000/svg\">\n",
       "<title>share</title>\n",
       "<use xlink:href=\"#icon-share\" xmlns:xlink=\"http://www.w3.org/1999/xlink\"></use>\n",
       "</svg>\n",
       "</span>\n",
       "</a>\n",
       "</div>\n",
       "</div>\n",
       "</div>\n",
       "</div>\n",
       "</div>\n",
       "</div>\n",
       "</div>\n",
       "</div>\n",
       "</div>\n",
       "</div>\n",
       "<a class=\"o-hit__link\" data-rapid_p=\"16\" data-v9y=\"1\" href=\"/philips-hue-leaks-show-new-versatility-for-lightstrip-plus-and-bloom-122939725.html?utm_campaign=homepage&amp;utm_medium=internal&amp;utm_source=dl\">View</a>\n",
       "</article>\n",
       "</div>\n",
       "<div class=\"grid__cell mt-25 col-4-of-8 col-1-of-2@tp col-12-of-12@m- \">\n",
       "<!-- feature-listing-secondary -->\n",
       "<article class=\"o-hit pb-10@tp+ \">\n",
       "<!-- rating-thumb --><div class=\"o-rating_thumb c-white\">\n",
       "<img alt=\"'Pokémon Go' will better blend AR creatures into the real world\" class=\"stretch-img\" src=\"https://s.yimg.com/os/creatr-uploaded-images/2020-05/92e627a0-9f92-11ea-bf93-60346e9686cf\"/>\n",
       "<div class=\"o-rating_thumb__rating b-75@m- z-3\"><!-- rating -->\n",
       "</div></div>\n",
       "<div class=\"pt-20@tp+\">\n",
       "<!-- listing-body -->\n",
       "<div class=\" o-feed_listing@m- o-feed_bleed@m-\" data-feed-container=\"\">\n",
       "<div class=\" o-feed_listing@m-__mid\">\n",
       "<div class=\"mt-0@m- pr-20@m- mr-0@m- mt-n11@tl+ o-feed_listing@m-__inner th-base@m- break-left@m- \">\n",
       "<h2 class=\"t-h4@s t-h3@m t-h3-b@tp t-h4@tl t-h3-b@d mt-10@m+\">\n",
       "<span class=\"th-underline\">'Pokémon Go' will better blend AR creatures into the real world</span>\n",
       "</h2>\n",
       "<div class=\"hide@s mt-10@s\">\n",
       "</div>\n",
       "<div class=\"mt-20@s\">\n",
       "<!-- listing-meta-bar -->\n",
       "<div class=\" mr-n20@m-\">\n",
       "<div class=\"table@tp+ mt-10@m+ th-meta\">\n",
       "<div class=\"relative inline-block table-cell@tl\">\n",
       "<a data-rapid_p=\"17\" data-v9y=\"1\" data-ylk=\"slk:Jon%20Fingas;pos:1;cpos:1;elm:img;subsec:author;\" href=\"/about/editors/jon-fingas/\">\n",
       "<img class=\"vc circle-mask absolute l-0 hide@tl\" height=\"30px\" src=\"https://o.aolcdn.com/images/dims?thumbnail=30%2C30&amp;quality=70&amp;image_uri=https%3A%2F%2Fs.yimg.com%2Fuu%2Fapi%2Fres%2F1.2%2F02pnRv4R1ACJkDAsLCSxmA--%7EB%2FaD0xMDgyO3c9MTA4MjthcHBpZD15dGFjaHlvbg--%2Fhttp%3A%2F%2Fwww.blogcdn.com%2Fwww.engadget.com%2Fmedia%2F2013%2F01%2Fjon-fingas-january-2013.jpg&amp;client=amp-blogside-v2&amp;signature=6c0cd5b1fdea59b8e39629d363d0170426571b3c\" width=\"30px\"/>\n",
       "</a>\n",
       "<div class=\"h-1 w-40 inline-block hide@tl\"></div>\n",
       "<span class=\"t-meta pb-0 vt mt-5@tp+ w-185@m mr-10@tp+ pt-20@m- \">\n",
       "<span class=\"hide@m-\">By </span>\n",
       "<span><a class=\"th-meta\" data-rapid_p=\"18\" data-v9y=\"1\" data-ylk=\"slk:Jon%20Fingas;pos:2;cpos:1;elm:link;\" href=\"/about/editors/jon-fingas\">J. Fingas</a></span><span class=\"hide@m-\">, </span><span class=\"\">\n",
       "                 12h ago</span></span> </div>\n",
       "<div class=\"inline-block@tp+ relative@tp+ t-2@tp+ o-feed_share@m- mt-5@m ta-r@tl table-cell@tl\" style=\"vertical-align: -2px\"> <!-- share-macro -->\n",
       "<div class=\"o-feed_share@m-__item icon-divider@tp+ relative i-share_overlay\" data-behavior=\"ShareOverlay\">\n",
       "<div class=\"bg-gray-2 o-share_ui i-share_overlay__over o-h\" data-share-overlay-over=\"\" style=\"height: 0px;\">\n",
       "<div style=\"padding-top: 8px\">\n",
       "<div class=\"icon-20-line-height\">\n",
       "<a class=\"c-white:hvr block o-share_ui__item sharebtn twitter-share\" data-behavior=\"Pop\" data-engadget-h=\"430\" data-engadget-pop-w=\"670\" data-engadget-popname=\"engadget_share\" data-rapid_p=\"19\" data-v9y=\"1\" data-ylk=\"slk:twitter;elm:share;tar:https://twitter.com;\" href=\"https://twitter.com/share?url=https%3A%2F%2Fwww.engadget.com%2Fpokemon-go-ar-reality-blending-and-pokestop-scans-195359263.html&amp;text=%27Pok%C3%A9mon%20Go%27%20will%20better%20blend%20AR%20creatures%20into%20the%20real%20world&amp;via=engadget\" rel=\"noopener noreferrer\" target=\"_blank\">\n",
       "<svg class=\"inline-block icon vm\" xmlns=\"http://www.w3.org/2000/svg\"><use xlink:href=\"#icon-twitter\" xmlns:xlink=\"http://www.w3.org/1999/xlink\"></use></svg>\n",
       "</a>\n",
       "</div>\n",
       "<div class=\"icon-20-line-height\">\n",
       "<a class=\"c-white:hvr block o-share_ui__item sharebtn facebook-share\" data-behavior=\"Pop\" data-engadget-h=\"636\" data-engadget-pop-w=\"560\" data-engadget-popname=\"engadget_share\" data-rapid_p=\"20\" data-v9y=\"1\" data-ylk=\"slk:facebook;elm:share;tar:https://facebook.com;\" href=\"https://www.facebook.com/dialog/share?app_id=132746074315&amp;display=popup&amp;href=https%3A%2F%2Fwww.engadget.com%2Fpokemon-go-ar-reality-blending-and-pokestop-scans-195359263.html\" rel=\"noopener noreferrer\" target=\"_blank\">\n",
       "<svg class=\"inline-block icon vm\" xmlns=\"http://www.w3.org/2000/svg\"><use xlink:href=\"#icon-facebook\" xmlns:xlink=\"http://www.w3.org/1999/xlink\"></use></svg>\n",
       "</a>\n",
       "</div>\n",
       "<div class=\"icon-20-line-height\">\n",
       "<a class=\"c-white:hvr block o-share_ui__item sharebtn reddit-share\" data-behavior=\"Pop\" data-engadget-h=\"750\" data-engadget-pop-w=\"960\" data-engadget-popname=\"engadget_share\" data-rapid_p=\"21\" data-v9y=\"1\" data-ylk=\"slk:reddit;elm:share;tar:https://reddit.com;\" href=\"https://www.reddit.com/submit?url=https%3A%2F%2Fwww.engadget.com%2Fpokemon-go-ar-reality-blending-and-pokestop-scans-195359263.html&amp;title=%27Pok%C3%A9mon%20Go%27%20will%20better%20blend%20AR%20creatures%20into%20the%20real%20world\" rel=\"noopener noreferrer\" target=\"_blank\">\n",
       "<svg class=\"inline-block icon vm\" xmlns=\"http://www.w3.org/2000/svg\"><use xlink:href=\"#icon-reddit\" xmlns:xlink=\"http://www.w3.org/1999/xlink\"></use></svg>\n",
       "</a>\n",
       "</div>\n",
       "<div class=\"icon-20-line-height\">\n",
       "<a class=\"c-white:hvr block o-share_ui__item\" data-behavior=\"Pop\" data-rapid_p=\"22\" data-v9y=\"1\" data-ylk=\"slk:email;elm:share;\" href=\"mailto:?subject=%27Pok%C3%A9mon%20Go%27%20will%20better%20blend%20AR%20creatures%20into%20the%20real%20world via Engadget&amp;body=https%3A%2F%2Fwww.engadget.com%2Fpokemon-go-ar-reality-blending-and-pokestop-scans-195359263.html\" rel=\"noopener noreferrer\" target=\"_blank\">\n",
       "<svg class=\"inline-block icon vm\" xmlns=\"http://www.w3.org/2000/svg\"><use xlink:href=\"#icon-email\" xmlns:xlink=\"http://www.w3.org/1999/xlink\"></use></svg>\n",
       "</a>\n",
       "</div>\n",
       "</div>\n",
       "</div>\n",
       "<div class=\"relative i-share_overlay__btn full-height\" data-share-overlay-btn=\"\">\n",
       "<!-- listing-action -->\n",
       "<a class=\" c-white:hvr! c-inherit-*:hvr vc@tp+ ml-a@m- icon th-meta increase-hit c-white:hvr! c-inherit-*:hvr\" data-rapid_p=\"23\" data-v9y=\"1\" href=\"javascript:;\" rel=\"noopener noreferrer\">\n",
       "<span class=\"increase-hit__inner contain block full-height\">\n",
       "<svg aria-label=\"share\" class=\"icon contain__inner th-meta__icon\" role=\"img\" xmlns=\"http://www.w3.org/2000/svg\">\n",
       "<title>share</title>\n",
       "<use xlink:href=\"#icon-share\" xmlns:xlink=\"http://www.w3.org/1999/xlink\"></use>\n",
       "</svg>\n",
       "</span>\n",
       "</a>\n",
       "</div>\n",
       "</div>\n",
       "</div>\n",
       "</div>\n",
       "</div>\n",
       "</div>\n",
       "</div>\n",
       "</div>\n",
       "</div>\n",
       "</div>\n",
       "<a class=\"o-hit__link\" data-rapid_p=\"24\" data-v9y=\"1\" href=\"/pokemon-go-ar-reality-blending-and-pokestop-scans-195359263.html?utm_campaign=homepage&amp;utm_medium=internal&amp;utm_source=dl\">View</a>\n",
       "</article>\n",
       "</div>\n",
       "</div>\n",
       "</div>\n",
       "</div>\n",
       "</div>\n",
       "<!-- right column -->\n",
       "<div class=\"grid__cell col-4-of-12 hide@tp- grid-divider\">\n",
       "<div class=\"grid-divider-el bc-gray-2 h-85@tl- h-160@d hide@tp-\"></div>\n",
       "<aside class=\"mb-40\" role=\"banner\">\n",
       "<div class=\"vc relative\"><div class=\"\" data-aol-adcall='{\"tl\":{\"adSetType\":\"F\",\"htmlAdWH\":{\"mn\":93484750,\"sizes\":{\"w\":\"RR\",\"h\":\"RR\"},\"type\":\"f\"},\"cb\":\"adjust_dl\",\"adsRotateMult\":1}}' data-behavior=\"Advertisement\" id=\"rr_home\"><iframe allowtransparency=\"true\" banid=\"5668851|21\" class=\"uac_300x250\" frameborder=\"0\" height=\"250\" id=\"atwAdFrame1\" itemscope=\"\" itemtype=\"https://schema.org/WPAdBlock\" marginheight=\"0\" marginwidth=\"0\" name=\"atwAdFrame1\" sandbox=\"allow-forms allow-scripts allow-popups allow-popups-to-escape-sandbox allow-same-origin\" scrolling=\"no\" tabindex=\"-1\" title=\"Ad\" width=\"300\"></iframe><div id=\"atwAdFrame1EAN\" style=\"width: 300px; height: 15px; top: 0px; left: 0px; margin: 0px auto; position: relative;\"><a href=\"http://adinfo.aol.com/\" id=\"atwAdFrame1EANA\" style=\"position:absolute;right:0px;z-index:4999;margin:0 auto;width:77px;height:15px\" target=\"_blank\"><img alt=\"AdChoices\" src=\"https://o.aolcdn.com/ads/adchoices.png\" style=\"border:none;width:77px;height:15px;vertical-align:top\"/></a></div></div></div>\n",
       "</aside>\n",
       "<div class=\"pt-10@tp+\" data-eng-ad-adjust=\"primary\">\n",
       "<!-- feature-listing-secondary -->\n",
       "<article class=\"o-hit pb-10@tp+ \">\n",
       "<!-- rating-thumb --><div class=\"o-rating_thumb c-white\">\n",
       "<img alt=\"HBO Max's early sign-up discount ends at 3AM ET\" class=\"stretch-img\" src=\"https://s.yimg.com/os/creatr-uploaded-images/2020-05/c0995b40-9f74-11ea-8ee6-af1bdef8069f\"/>\n",
       "<div class=\"o-rating_thumb__rating b-75@m- z-3\"><!-- rating -->\n",
       "</div></div>\n",
       "<div class=\"pt-20@tp+\">\n",
       "<!-- listing-body -->\n",
       "<div class=\" o-feed_listing@m- o-feed_bleed@m-\" data-feed-container=\"\">\n",
       "<div class=\" o-feed_listing@m-__mid\">\n",
       "<div class=\"mt-0@m- pr-20@m- mr-0@m- mt-n11@tl+ o-feed_listing@m-__inner th-base@m- break-left@m- \">\n",
       "<h2 class=\"t-h4@s t-h3@m t-h3-b@tp t-h4@tl t-h3-b@d mt-10@m+\">\n",
       "<span class=\"th-underline\">HBO Max's early sign-up discount ends at 3AM ET</span>\n",
       "</h2>\n",
       "<div class=\"hide@s mt-10@s\">\n",
       "</div>\n",
       "<div class=\"mt-20@s\">\n",
       "<!-- listing-meta-bar -->\n",
       "<div class=\" mr-n20@m-\">\n",
       "<div class=\"table@tp+ mt-10@m+ th-meta\">\n",
       "<div class=\"relative inline-block table-cell@tl\">\n",
       "<a data-rapid_p=\"25\" data-v9y=\"1\" data-ylk=\"slk:Marc%20DeAngelis;pos:1;cpos:1;elm:img;subsec:author;\" href=\"/about/editors/marc-deangelis/\">\n",
       "<img class=\"vc circle-mask absolute l-0 hide@tl\" height=\"30px\" src=\"https://o.aolcdn.com/images/dims?thumbnail=30%2C30&amp;quality=70&amp;image_uri=https%3A%2F%2Fs.yimg.com%2Fuu%2Fapi%2Fres%2F1.2%2FkW_gqWAzI7IsstwVoGnMqQ--%7EB%2FaD03NzA7dz05NTY7YXBwaWQ9eXRhY2h5b24-%2Fhttps%3A%2F%2Fs.blogcdn.com%2Fwww.engadget.com%2Fmedia%2F2019%2F08%2Fmd.jpg&amp;client=amp-blogside-v2&amp;signature=f13ed1d03597bc57aa7c69faa03e7d4501de3c68\" width=\"30px\"/>\n",
       "</a>\n",
       "<div class=\"h-1 w-40 inline-block hide@tl\"></div>\n",
       "<span class=\"t-meta pb-0 vt mt-5@tp+ w-185@m mr-10@tp+ pt-20@m- \">\n",
       "<span class=\"hide@m-\">By </span>\n",
       "<span><a class=\"th-meta\" data-rapid_p=\"26\" data-v9y=\"1\" data-ylk=\"slk:Marc%20DeAngelis;pos:2;cpos:1;elm:link;\" href=\"/about/editors/marc-deangelis\">M. DeAngelis</a></span><span class=\"hide@m-\">, </span><span class=\"\">\n",
       "                 14h ago</span></span> </div>\n",
       "<div class=\"inline-block@tp+ relative@tp+ t-2@tp+ o-feed_share@m- mt-5@m ta-r@tl table-cell@tl\" style=\"vertical-align: -2px\"> <!-- share-macro -->\n",
       "<div class=\"o-feed_share@m-__item icon-divider@tp+ relative i-share_overlay\" data-behavior=\"ShareOverlay\">\n",
       "<div class=\"bg-gray-2 o-share_ui i-share_overlay__over o-h\" data-share-overlay-over=\"\" style=\"height: 0px;\">\n",
       "<div style=\"padding-top: 8px\">\n",
       "<div class=\"icon-20-line-height\">\n",
       "<a class=\"c-white:hvr block o-share_ui__item sharebtn twitter-share\" data-behavior=\"Pop\" data-engadget-h=\"430\" data-engadget-pop-w=\"670\" data-engadget-popname=\"engadget_share\" data-rapid_p=\"27\" data-v9y=\"1\" data-ylk=\"slk:twitter;elm:share;tar:https://twitter.com;\" href=\"https://twitter.com/share?url=https%3A%2F%2Fwww.engadget.com%2Fhbo-max-early-subscriber-discount-165800136.html&amp;text=HBO%20Max%27s%20early%20sign-up%20discount%20ends%20at%203AM%20ET&amp;via=engadget\" rel=\"noopener noreferrer\" target=\"_blank\">\n",
       "<svg class=\"inline-block icon vm\" xmlns=\"http://www.w3.org/2000/svg\"><use xlink:href=\"#icon-twitter\" xmlns:xlink=\"http://www.w3.org/1999/xlink\"></use></svg>\n",
       "</a>\n",
       "</div>\n",
       "<div class=\"icon-20-line-height\">\n",
       "<a class=\"c-white:hvr block o-share_ui__item sharebtn facebook-share\" data-behavior=\"Pop\" data-engadget-h=\"636\" data-engadget-pop-w=\"560\" data-engadget-popname=\"engadget_share\" data-rapid_p=\"28\" data-v9y=\"1\" data-ylk=\"slk:facebook;elm:share;tar:https://facebook.com;\" href=\"https://www.facebook.com/dialog/share?app_id=132746074315&amp;display=popup&amp;href=https%3A%2F%2Fwww.engadget.com%2Fhbo-max-early-subscriber-discount-165800136.html\" rel=\"noopener noreferrer\" target=\"_blank\">\n",
       "<svg class=\"inline-block icon vm\" xmlns=\"http://www.w3.org/2000/svg\"><use xlink:href=\"#icon-facebook\" xmlns:xlink=\"http://www.w3.org/1999/xlink\"></use></svg>\n",
       "</a>\n",
       "</div>\n",
       "<div class=\"icon-20-line-height\">\n",
       "<a class=\"c-white:hvr block o-share_ui__item sharebtn reddit-share\" data-behavior=\"Pop\" data-engadget-h=\"750\" data-engadget-pop-w=\"960\" data-engadget-popname=\"engadget_share\" data-rapid_p=\"29\" data-v9y=\"1\" data-ylk=\"slk:reddit;elm:share;tar:https://reddit.com;\" href=\"https://www.reddit.com/submit?url=https%3A%2F%2Fwww.engadget.com%2Fhbo-max-early-subscriber-discount-165800136.html&amp;title=HBO%20Max%27s%20early%20sign-up%20discount%20ends%20at%203AM%20ET\" rel=\"noopener noreferrer\" target=\"_blank\">\n",
       "<svg class=\"inline-block icon vm\" xmlns=\"http://www.w3.org/2000/svg\"><use xlink:href=\"#icon-reddit\" xmlns:xlink=\"http://www.w3.org/1999/xlink\"></use></svg>\n",
       "</a>\n",
       "</div>\n",
       "<div class=\"icon-20-line-height\">\n",
       "<a class=\"c-white:hvr block o-share_ui__item\" data-behavior=\"Pop\" data-rapid_p=\"30\" data-v9y=\"1\" data-ylk=\"slk:email;elm:share;\" href=\"mailto:?subject=HBO%20Max%27s%20early%20sign-up%20discount%20ends%20at%203AM%20ET via Engadget&amp;body=https%3A%2F%2Fwww.engadget.com%2Fhbo-max-early-subscriber-discount-165800136.html\" rel=\"noopener noreferrer\" target=\"_blank\">\n",
       "<svg class=\"inline-block icon vm\" xmlns=\"http://www.w3.org/2000/svg\"><use xlink:href=\"#icon-email\" xmlns:xlink=\"http://www.w3.org/1999/xlink\"></use></svg>\n",
       "</a>\n",
       "</div>\n",
       "</div>\n",
       "</div>\n",
       "<div class=\"relative i-share_overlay__btn full-height\" data-share-overlay-btn=\"\">\n",
       "<!-- listing-action -->\n",
       "<a class=\" c-white:hvr! c-inherit-*:hvr vc@tp+ ml-a@m- icon th-meta increase-hit c-white:hvr! c-inherit-*:hvr\" data-rapid_p=\"31\" data-v9y=\"1\" href=\"javascript:;\" rel=\"noopener noreferrer\">\n",
       "<span class=\"increase-hit__inner contain block full-height\">\n",
       "<svg aria-label=\"share\" class=\"icon contain__inner th-meta__icon\" role=\"img\" xmlns=\"http://www.w3.org/2000/svg\">\n",
       "<title>share</title>\n",
       "<use xlink:href=\"#icon-share\" xmlns:xlink=\"http://www.w3.org/1999/xlink\"></use>\n",
       "</svg>\n",
       "</span>\n",
       "</a>\n",
       "</div>\n",
       "</div>\n",
       "</div>\n",
       "</div>\n",
       "</div>\n",
       "</div>\n",
       "</div>\n",
       "</div>\n",
       "</div>\n",
       "</div>\n",
       "<a class=\"o-hit__link\" data-rapid_p=\"32\" data-v9y=\"1\" href=\"/hbo-max-early-subscriber-discount-165800136.html?utm_campaign=homepage&amp;utm_medium=internal&amp;utm_source=dl\">View</a>\n",
       "</article>\n",
       "</div>\n",
       "<div class=\"pt-25@tp+\" data-eng-ad-adjust=\"secondary\">\n",
       "<!-- feature-listing-secondary -->\n",
       "<article class=\"o-hit pb-10@tp+ \">\n",
       "<!-- rating-thumb --><div class=\"o-rating_thumb c-white\">\n",
       "<img alt=\"Toxic coast: Cleaning up a century of industrial waste in New Jersey\" class=\"stretch-img\" src=\"https://s.yimg.com/os/creatr-uploaded-images/2020-05/c393dff0-9f5b-11ea-bddd-1085af783093\"/>\n",
       "<div class=\"o-rating_thumb__rating b-75@m- z-3\"><!-- rating -->\n",
       "</div></div>\n",
       "<div class=\"pt-20@tp+\">\n",
       "<!-- listing-body -->\n",
       "<div class=\" o-feed_listing@m- o-feed_bleed@m-\" data-feed-container=\"\">\n",
       "<div class=\" o-feed_listing@m-__mid\">\n",
       "<div class=\"mt-0@m- pr-20@m- mr-0@m- mt-n11@tl+ o-feed_listing@m-__inner th-base@m- break-left@m- \">\n",
       "<h2 class=\"t-h4@s t-h3@m t-h3-b@tp t-h4@tl t-h3-b@d mt-10@m+\">\n",
       "<span class=\"th-underline\">Toxic coast: Cleaning up a century of industrial waste in New Jersey</span>\n",
       "</h2>\n",
       "<div class=\"hide@s mt-10@s\">\n",
       "</div>\n",
       "<div class=\"mt-20@s\">\n",
       "<!-- listing-meta-bar -->\n",
       "<div class=\" mr-n20@m-\">\n",
       "<div class=\"table@tp+ mt-10@m+ th-meta\">\n",
       "<div class=\"relative inline-block table-cell@tl\">\n",
       "<a data-rapid_p=\"33\" data-v9y=\"1\" data-ylk=\"slk:James%20Dinneen;pos:1;cpos:1;elm:img;subsec:author;\" href=\"/about/editors/james-dinneen/\">\n",
       "<img class=\"vc circle-mask absolute l-0 hide@tl\" height=\"30px\" src=\"https://o.aolcdn.com/images/dims?thumbnail=30%2C30&amp;quality=70&amp;image_uri=https%3A%2F%2Fs.yimg.com%2Fos%2Fcreatr-uploaded-images%2F2020-05%2F5eac5560-9b76-11ea-befb-068b19fc35fd&amp;client=amp-blogside-v2&amp;signature=45a2bcedea7eda99f0a8e7086351500daf182df5\" width=\"30px\"/>\n",
       "</a>\n",
       "<div class=\"h-1 w-40 inline-block hide@tl\"></div>\n",
       "<span class=\"t-meta pb-0 vt mt-5@tp+ w-185@m mr-10@tp+ pt-20@m- \">\n",
       "<span class=\"hide@m-\">By </span>\n",
       "<span><a class=\"th-meta\" data-rapid_p=\"34\" data-v9y=\"1\" data-ylk=\"slk:James%20Dinneen;pos:2;cpos:1;elm:link;\" href=\"/about/editors/james-dinneen\">J. Dinneen</a></span><span class=\"hide@m-\">, </span><span class=\"\">\n",
       "                 17h ago</span></span> </div>\n",
       "<div class=\"inline-block@tp+ relative@tp+ t-2@tp+ o-feed_share@m- mt-5@m ta-r@tl table-cell@tl\" style=\"vertical-align: -2px\"> <!-- share-macro -->\n",
       "<div class=\"o-feed_share@m-__item icon-divider@tp+ relative i-share_overlay\" data-behavior=\"ShareOverlay\">\n",
       "<div class=\"bg-gray-2 o-share_ui i-share_overlay__over o-h\" data-share-overlay-over=\"\" style=\"height: 0px;\">\n",
       "<div style=\"padding-top: 8px\">\n",
       "<div class=\"icon-20-line-height\">\n",
       "<a class=\"c-white:hvr block o-share_ui__item sharebtn twitter-share\" data-behavior=\"Pop\" data-engadget-h=\"430\" data-engadget-pop-w=\"670\" data-engadget-popname=\"engadget_share\" data-rapid_p=\"35\" data-v9y=\"1\" data-ylk=\"slk:twitter;elm:share;tar:https://twitter.com;\" href=\"https://twitter.com/share?url=https%3A%2F%2Fwww.engadget.com%2Ftoxic-coast-141522059.html&amp;text=Toxic%20coast%3A%20Cleaning%20up%20a%20century%20of%20industrial%20waste%20in%20New%20Jersey&amp;via=engadget\" rel=\"noopener noreferrer\" target=\"_blank\">\n",
       "<svg class=\"inline-block icon vm\" xmlns=\"http://www.w3.org/2000/svg\"><use xlink:href=\"#icon-twitter\" xmlns:xlink=\"http://www.w3.org/1999/xlink\"></use></svg>\n",
       "</a>\n",
       "</div>\n",
       "<div class=\"icon-20-line-height\">\n",
       "<a class=\"c-white:hvr block o-share_ui__item sharebtn facebook-share\" data-behavior=\"Pop\" data-engadget-h=\"636\" data-engadget-pop-w=\"560\" data-engadget-popname=\"engadget_share\" data-rapid_p=\"36\" data-v9y=\"1\" data-ylk=\"slk:facebook;elm:share;tar:https://facebook.com;\" href=\"https://www.facebook.com/dialog/share?app_id=132746074315&amp;display=popup&amp;href=https%3A%2F%2Fwww.engadget.com%2Ftoxic-coast-141522059.html\" rel=\"noopener noreferrer\" target=\"_blank\">\n",
       "<svg class=\"inline-block icon vm\" xmlns=\"http://www.w3.org/2000/svg\"><use xlink:href=\"#icon-facebook\" xmlns:xlink=\"http://www.w3.org/1999/xlink\"></use></svg>\n",
       "</a>\n",
       "</div>\n",
       "<div class=\"icon-20-line-height\">\n",
       "<a class=\"c-white:hvr block o-share_ui__item sharebtn reddit-share\" data-behavior=\"Pop\" data-engadget-h=\"750\" data-engadget-pop-w=\"960\" data-engadget-popname=\"engadget_share\" data-rapid_p=\"37\" data-v9y=\"1\" data-ylk=\"slk:reddit;elm:share;tar:https://reddit.com;\" href=\"https://www.reddit.com/submit?url=https%3A%2F%2Fwww.engadget.com%2Ftoxic-coast-141522059.html&amp;title=Toxic%20coast%3A%20Cleaning%20up%20a%20century%20of%20industrial%20waste%20in%20New%20Jersey\" rel=\"noopener noreferrer\" target=\"_blank\">\n",
       "<svg class=\"inline-block icon vm\" xmlns=\"http://www.w3.org/2000/svg\"><use xlink:href=\"#icon-reddit\" xmlns:xlink=\"http://www.w3.org/1999/xlink\"></use></svg>\n",
       "</a>\n",
       "</div>\n",
       "<div class=\"icon-20-line-height\">\n",
       "<a class=\"c-white:hvr block o-share_ui__item\" data-behavior=\"Pop\" data-rapid_p=\"38\" data-v9y=\"1\" data-ylk=\"slk:email;elm:share;\" href=\"mailto:?subject=Toxic%20coast%3A%20Cleaning%20up%20a%20century%20of%20industrial%20waste%20in%20New%20Jersey via Engadget&amp;body=https%3A%2F%2Fwww.engadget.com%2Ftoxic-coast-141522059.html\" rel=\"noopener noreferrer\" target=\"_blank\">\n",
       "<svg class=\"inline-block icon vm\" xmlns=\"http://www.w3.org/2000/svg\"><use xlink:href=\"#icon-email\" xmlns:xlink=\"http://www.w3.org/1999/xlink\"></use></svg>\n",
       "</a>\n",
       "</div>\n",
       "</div>\n",
       "</div>\n",
       "<div class=\"relative i-share_overlay__btn full-height\" data-share-overlay-btn=\"\">\n",
       "<!-- listing-action -->\n",
       "<a class=\" c-white:hvr! c-inherit-*:hvr vc@tp+ ml-a@m- icon th-meta increase-hit c-white:hvr! c-inherit-*:hvr\" data-rapid_p=\"39\" data-v9y=\"1\" href=\"javascript:;\" rel=\"noopener noreferrer\">\n",
       "<span class=\"increase-hit__inner contain block full-height\">\n",
       "<svg aria-label=\"share\" class=\"icon contain__inner th-meta__icon\" role=\"img\" xmlns=\"http://www.w3.org/2000/svg\">\n",
       "<title>share</title>\n",
       "<use xlink:href=\"#icon-share\" xmlns:xlink=\"http://www.w3.org/1999/xlink\"></use>\n",
       "</svg>\n",
       "</span>\n",
       "</a>\n",
       "</div>\n",
       "</div>\n",
       "</div>\n",
       "</div>\n",
       "</div>\n",
       "</div>\n",
       "</div>\n",
       "</div>\n",
       "</div>\n",
       "</div>\n",
       "<a class=\"o-hit__link\" data-rapid_p=\"40\" data-v9y=\"1\" href=\"/toxic-coast-141522059.html?utm_campaign=homepage&amp;utm_medium=internal&amp;utm_source=dl\">View</a>\n",
       "</article>\n",
       "</div>\n",
       "</div>\n",
       "</div>\n",
       "</div>"
      ]
     },
     "execution_count": 4,
     "metadata": {},
     "output_type": "execute_result"
    }
   ],
   "source": [
    "soup.find(id = 'engadget-main-dl')"
   ]
  },
  {
   "cell_type": "code",
   "execution_count": 5,
   "metadata": {},
   "outputs": [
    {
     "name": "stdout",
     "output_type": "stream",
     "text": [
      "\n",
      "      Lenovo Chromebook Duet review: A surprisingly solid tablet experience\n",
      "  \n",
      "\n",
      "By \n",
      "N. Ingraham, \n",
      "                 16h ago\n",
      "By \n",
      "N. Ingraham\n",
      ", \n",
      "\n",
      "                 16h ago\n",
      "\n",
      "\n",
      "share\n",
      "\n",
      "\n",
      "\n",
      "Philips Hue leaks show new versatility for Lightstrip Plus and Bloom\n",
      "\n",
      "By \n",
      "R. England, \n",
      "                 19h ago\n",
      "By \n",
      "R. England\n",
      ", \n",
      "\n",
      "                 19h ago\n",
      "\n",
      "\n",
      "share\n",
      "\n",
      "\n",
      "\n",
      "'Pokémon Go' will better blend AR creatures into the real world\n",
      "\n",
      "By \n",
      "J. Fingas, \n",
      "                 12h ago\n",
      "By \n",
      "J. Fingas\n",
      ", \n",
      "\n",
      "                 12h ago\n",
      "\n",
      "\n",
      "share\n",
      "\n",
      "\n",
      "\n",
      "HBO Max's early sign-up discount ends at 3AM ET\n",
      "\n",
      "By \n",
      "M. DeAngelis, \n",
      "                 14h ago\n",
      "By \n",
      "M. DeAngelis\n",
      ", \n",
      "\n",
      "                 14h ago\n",
      "\n",
      "\n",
      "share\n",
      "\n",
      "\n",
      "\n",
      "Toxic coast: Cleaning up a century of industrial waste in New Jersey\n",
      "\n",
      "By \n",
      "J. Dinneen, \n",
      "                 17h ago\n",
      "By \n",
      "J. Dinneen\n",
      ", \n",
      "\n",
      "                 17h ago\n",
      "\n",
      "\n",
      "share\n",
      "\n",
      "\n",
      "\n"
     ]
    }
   ],
   "source": [
    "[print(item.text) for item in soup.find(id = 'engadget-main-dl').find_all('span')];"
   ]
  },
  {
   "cell_type": "markdown",
   "metadata": {},
   "source": [
    "### 3. Next, I'll want to pull some of the photos from the first stories on the page to be downloaded to our local machine\n",
    "\n",
    "- Although this is a very small example, you can imagine this data being extremely useful if sliced correctly.\n",
    "\n",
    "- I've had friends of mine build scrapers in the past to get all sorts of valuable data on products online.\n",
    "\n",
    "- Tagged photos are hard to come by, so if you have a photo with some amount of information attached then it could be exceedingly useful for training models or for a computer vision project."
   ]
  },
  {
   "cell_type": "code",
   "execution_count": 6,
   "metadata": {},
   "outputs": [
    {
     "name": "stdout",
     "output_type": "stream",
     "text": [
      "<img alt=\"Lenovo Chromebook Duet review: A surprisingly solid tablet experience\" class=\"stretch-img\" src=\"https://s.yimg.com/os/creatr-uploaded-images/2020-05/c5c21420-9f67-11ea-abfe-b5a8440aeaad\"/>\n",
      "<img class=\"vc circle-mask absolute l-0 \" height=\"30px\" src=\"https://o.aolcdn.com/images/dims?thumbnail=30%2C30&amp;quality=70&amp;image_uri=https%3A%2F%2Fs.yimg.com%2Fuu%2Fapi%2Fres%2F1.2%2FKDPNKi2quaEStzz2SR78Sw--%7EB%2FaD0xMjAwO3c9MTIwMDthcHBpZD15dGFjaHlvbg--%2Fhttps%3A%2F%2Fs.blogcdn.com%2Fwww.engadget.com%2Fmedia%2F2017%2F08%2Funnamed.jpg&amp;client=amp-blogside-v2&amp;signature=ebba7bd501c6f716e81d996fac118313a4c717aa\" width=\"30px\"/>\n",
      "<img alt=\"Philips Hue leaks show new versatility for Lightstrip Plus and Bloom\" class=\"stretch-img\" src=\"https://s.yimg.com/os/creatr-uploaded-images/2020-05/a43bb2b0-9f4f-11ea-9f97-16adc26ef4a0\"/>\n",
      "<img class=\"vc circle-mask absolute l-0 hide@tl\" height=\"30px\" src=\"https://o.aolcdn.com/images/dims?thumbnail=30%2C30&amp;quality=70&amp;image_uri=https%3A%2F%2Fs.yimg.com%2Fuu%2Fapi%2Fres%2F1.2%2FCgDx8m8hVGikb10qqLzgSw--%7EB%2FaD0yMDA7dz0yMDA7YXBwaWQ9eXRhY2h5b24-%2Fhttps%3A%2F%2Fs.blogcdn.com%2Fwww.engadget.com%2Fmedia%2F2017%2F06%2Frachelengland-300x300.jpg&amp;client=amp-blogside-v2&amp;signature=78f3739e45c39ef63ac05f4a5bc70f5207f0c684\" width=\"30px\"/>\n",
      "<img alt=\"'Pokémon Go' will better blend AR creatures into the real world\" class=\"stretch-img\" src=\"https://s.yimg.com/os/creatr-uploaded-images/2020-05/92e627a0-9f92-11ea-bf93-60346e9686cf\"/>\n",
      "<img class=\"vc circle-mask absolute l-0 hide@tl\" height=\"30px\" src=\"https://o.aolcdn.com/images/dims?thumbnail=30%2C30&amp;quality=70&amp;image_uri=https%3A%2F%2Fs.yimg.com%2Fuu%2Fapi%2Fres%2F1.2%2F02pnRv4R1ACJkDAsLCSxmA--%7EB%2FaD0xMDgyO3c9MTA4MjthcHBpZD15dGFjaHlvbg--%2Fhttp%3A%2F%2Fwww.blogcdn.com%2Fwww.engadget.com%2Fmedia%2F2013%2F01%2Fjon-fingas-january-2013.jpg&amp;client=amp-blogside-v2&amp;signature=6c0cd5b1fdea59b8e39629d363d0170426571b3c\" width=\"30px\"/>\n",
      "<img alt=\"AdChoices\" src=\"https://o.aolcdn.com/ads/adchoices.png\" style=\"border:none;width:77px;height:15px;vertical-align:top\"/>\n",
      "<img alt=\"HBO Max's early sign-up discount ends at 3AM ET\" class=\"stretch-img\" src=\"https://s.yimg.com/os/creatr-uploaded-images/2020-05/c0995b40-9f74-11ea-8ee6-af1bdef8069f\"/>\n",
      "<img class=\"vc circle-mask absolute l-0 hide@tl\" height=\"30px\" src=\"https://o.aolcdn.com/images/dims?thumbnail=30%2C30&amp;quality=70&amp;image_uri=https%3A%2F%2Fs.yimg.com%2Fuu%2Fapi%2Fres%2F1.2%2FkW_gqWAzI7IsstwVoGnMqQ--%7EB%2FaD03NzA7dz05NTY7YXBwaWQ9eXRhY2h5b24-%2Fhttps%3A%2F%2Fs.blogcdn.com%2Fwww.engadget.com%2Fmedia%2F2019%2F08%2Fmd.jpg&amp;client=amp-blogside-v2&amp;signature=f13ed1d03597bc57aa7c69faa03e7d4501de3c68\" width=\"30px\"/>\n",
      "<img alt=\"Toxic coast: Cleaning up a century of industrial waste in New Jersey\" class=\"stretch-img\" src=\"https://s.yimg.com/os/creatr-uploaded-images/2020-05/c393dff0-9f5b-11ea-bddd-1085af783093\"/>\n",
      "<img class=\"vc circle-mask absolute l-0 hide@tl\" height=\"30px\" src=\"https://o.aolcdn.com/images/dims?thumbnail=30%2C30&amp;quality=70&amp;image_uri=https%3A%2F%2Fs.yimg.com%2Fos%2Fcreatr-uploaded-images%2F2020-05%2F5eac5560-9b76-11ea-befb-068b19fc35fd&amp;client=amp-blogside-v2&amp;signature=45a2bcedea7eda99f0a8e7086351500daf182df5\" width=\"30px\"/>\n"
     ]
    },
    {
     "data": {
      "text/plain": [
       "[None, None, None, None, None, None, None, None, None, None, None]"
      ]
     },
     "execution_count": 6,
     "metadata": {},
     "output_type": "execute_result"
    }
   ],
   "source": [
    "[print(item) for item in soup.find(id = 'engadget-main-dl').find_all('img')]"
   ]
  },
  {
   "cell_type": "code",
   "execution_count": 7,
   "metadata": {},
   "outputs": [
    {
     "data": {
      "text/plain": [
       "'https://s.yimg.com/os/creatr-uploaded-images/2020-05/c5c21420-9f67-11ea-abfe-b5a8440aeaad'"
      ]
     },
     "metadata": {},
     "output_type": "display_data"
    },
    {
     "data": {
      "text/plain": [
       "'https://s.yimg.com/os/creatr-uploaded-images/2020-05/a43bb2b0-9f4f-11ea-9f97-16adc26ef4a0'"
      ]
     },
     "metadata": {},
     "output_type": "display_data"
    },
    {
     "data": {
      "text/plain": [
       "'https://s.yimg.com/os/creatr-uploaded-images/2020-05/92e627a0-9f92-11ea-bf93-60346e9686cf'"
      ]
     },
     "metadata": {},
     "output_type": "display_data"
    },
    {
     "data": {
      "text/plain": [
       "'https://s.yimg.com/os/creatr-uploaded-images/2020-05/c0995b40-9f74-11ea-8ee6-af1bdef8069f'"
      ]
     },
     "metadata": {},
     "output_type": "display_data"
    },
    {
     "data": {
      "text/plain": [
       "'https://s.yimg.com/os/creatr-uploaded-images/2020-05/c393dff0-9f5b-11ea-bddd-1085af783093'"
      ]
     },
     "metadata": {},
     "output_type": "display_data"
    },
    {
     "data": {
      "text/plain": [
       "'https://o.aolcdn.com/images/dims?thumbnail=30%2C30&quality=70&image_uri=https%3A%2F%2Fs.yimg.com%2Fos%2Fcreatr-uploaded-images%2F2020-05%2F5eac5560-9b76-11ea-befb-068b19fc35fd&client=amp-blogside-v2&signature=45a2bcedea7eda99f0a8e7086351500daf182df5'"
      ]
     },
     "metadata": {},
     "output_type": "display_data"
    },
    {
     "name": "stdout",
     "output_type": "stream",
     "text": [
      "\n",
      "\n",
      "\n",
      "\n"
     ]
    },
    {
     "data": {
      "text/plain": [
       "None"
      ]
     },
     "metadata": {},
     "output_type": "display_data"
    },
    {
     "data": {
      "text/plain": [
       "['https://s.yimg.com/os/creatr-uploaded-images/2020-05/c5c21420-9f67-11ea-abfe-b5a8440aeaad',\n",
       " 'https://s.yimg.com/os/creatr-uploaded-images/2020-05/a43bb2b0-9f4f-11ea-9f97-16adc26ef4a0',\n",
       " 'https://s.yimg.com/os/creatr-uploaded-images/2020-05/92e627a0-9f92-11ea-bf93-60346e9686cf',\n",
       " 'https://s.yimg.com/os/creatr-uploaded-images/2020-05/c0995b40-9f74-11ea-8ee6-af1bdef8069f',\n",
       " 'https://s.yimg.com/os/creatr-uploaded-images/2020-05/c393dff0-9f5b-11ea-bddd-1085af783093']"
      ]
     },
     "metadata": {},
     "output_type": "display_data"
    }
   ],
   "source": [
    "photoslist = []\n",
    "for item in soup.find(id = 'engadget-main-dl').find_all('img'):\n",
    "    if 'creatr-uploaded-images' in str(item):\n",
    "        photoslist.append(item.get('src'))\n",
    "        display(item.get('src'))\n",
    "        \n",
    "photoslist = photoslist[:-1]\n",
    "\n",
    "display(print('\\n\\n\\n'), photoslist)"
   ]
  },
  {
   "cell_type": "code",
   "execution_count": 8,
   "metadata": {},
   "outputs": [],
   "source": [
    "counter = 1\n",
    "for item in photoslist:\n",
    "    urllib.request.urlretrieve(item, f'scraped_picture{counter}.jpg')\n",
    "    counter += 1"
   ]
  },
  {
   "cell_type": "code",
   "execution_count": 9,
   "metadata": {},
   "outputs": [],
   "source": [
    "! open ."
   ]
  },
  {
   "cell_type": "markdown",
   "metadata": {},
   "source": [
    "### 4. Now, I'll want to collect the urls of some of the stories that are available on engadget.\n",
    "\n",
    "- There are tons of reasons why you may want to do this, but the example that we'll be talking about will be the very very basics of language processing. \n",
    "\n",
    "- You could have a stock trading algorithm trained on stock market data as well as news stories. These algorithms are already increidbly prevalent and can be trained on any number of pages at any time. In our example, we'll be \"crawling\" a small part of Engadget and pulling in all of the information from the articles that are linked to from the pages we'll be crawling.\n",
    "\n",
    "- We will talk through the code that was run here, we will step through getting all of the stories on a page (talk about how we could do several pages), and then continue on to actually get the information from each story in the list of articles.\n",
    "\n",
    "- https://www.engadget.com/all/page/1/"
   ]
  },
  {
   "cell_type": "code",
   "execution_count": 10,
   "metadata": {},
   "outputs": [],
   "source": [
    "browser.visit('https://www.engadget.com/all/page/1/')\n",
    "soup = BeautifulSoup(browser.html, 'html.parser')"
   ]
  },
  {
   "cell_type": "code",
   "execution_count": 11,
   "metadata": {},
   "outputs": [
    {
     "data": {
      "text/plain": [
       "'<div class=\"grid@tl+__cell col-8-of-12@tl col-11-of-15@d flex-1\" data-ylk=\"sec:thelatest;itc:0;\" id=\"engadget-the-latest\">\\n<div class=\"\">\\n<div class=\"container@m container@tp\">\\n<!-- latest-listing-featured -->\\n<article class=\"\">\\n<div class=\"grid@m+\">\\n<div class=\"hide@tp- col-1-of-8@tl+ col-1-of-11@d grid@m+__cell\">\\n<div class=\"c-gray-7\">\\n<svg class=\"icon vt\" xmlns=\"http://www.w3.org/2000/svg\">\\n<use xlink:href=\"#icon-clock\" xmlns:xlink=\"http://www.w3.org/1999/xlink\"></use>\\n</svg>\\n<div class=\"inline-block tx-meta ml-5 icon-line-height absolute\">\\n          1h \\n        </div>\\n</div>\\n</div>\\n<div class=\"col-4-of-4@tp col-7-of-8@tl+ col-10-of-11@d grid@m+__cell mb-10@m+\">\\n<div class=\"relative c-white\">\\n<div class=\"absolute l-0 b-0 b-5@s\"></div>\\n<div class=\"o-rating_thumb@m-\"><a data-rapid_p=\"1\" data-v9y=\"1\" data-ylk=\"pos:1;slk:Google%20adds%201440p%20streaming%20resolution%20for%20Stadia%20on%20Chrome;elm:hdln;aid:engadget_479%3Dbsd%3Aac0bbc22-60e2-3ad0-b787-f19e84720d5e;\" href=\"/google-1440p-streaming-resolution-stadia-chrome-064515601.html\"> <img alt=\"Google adds 1440p streaming resolution for Stadia on Chrome\" class=\"stretch-img\" src=\"https://o.aolcdn.com/images/dims?resize=810%2C455&amp;crop=810%2C455%2C0%2C0&amp;quality=95&amp;image_uri=https%3A%2F%2Fs.yimg.com%2Fos%2Fcreatr-uploaded-images%2F2020-05%2F0bc30360-9fdd-11ea-9bdf-c4cf6e262045&amp;client=amp-blogside-v2&amp;signature=549c2723766de9c64f994b9289303ea17302fac1\"/>\\n</a>\\n</div>\\n<div class=\"o-thumb_overlay_desc@tp+ bg-white@tp+ c-gray-0@tp+ absolute@tp+ b-0 r-0 pt-20@tl pt-30@tp+ pl-40@tp+\">\\n<!-- listing-body -->\\n<div class=\" o-feed_listing@m- o-feed_bleed@s\" data-feed-container=\"\">\\n<div class=\" o-feed_listing@m-__mid\">\\n<div class=\"mt-0@m- pr-20@m- mr-0@m- mt-n11@tl+ o-feed_listing@m-__inner th-base@m- break-left@s \">\\n<div class=\"th-title mt-20@tl+\">\\n<h2 class=\"mt-10@tp+ t-h4@s t-h3-c@m t-h3-b@tp t-h4@tl t-h3@d\">\\n<a data-rapid_p=\"2\" data-v9y=\"1\" href=\"/google-1440p-streaming-resolution-stadia-chrome-064515601.html\"><span class=\"th-underline\">\\n                  Google adds 1440p streaming resolution for Stadia on Chrome\\n              </span></a>\\n</h2>\\n</div>\\n<div class=\"hide@s mt-10@s\">\\n<p class=\"mt-15@m+ t-d5@m- t-d5@tp+ c-gray-3\">Players need to meet the platform\\'s 4K streaming requirements, though.</p> </div>\\n<div class=\"mt-20@s\">\\n<!-- listing-meta-bar -->\\n<div class=\" mr-n20@m-\">\\n<div class=\"table@tp+ mt-15@m+ th-meta\">\\n<div class=\"relative inline-block \">\\n<a data-rapid_p=\"3\" data-v9y=\"1\" data-ylk=\"slk:Mariella%20Moon;pos:1;cpos:1;elm:img;subsec:author;\" href=\"/about/editors/mariella-moon/\">\\n<img class=\"vc circle-mask absolute l-0 \" height=\"30px\" src=\"https://o.aolcdn.com/images/dims?thumbnail=30%2C30&amp;quality=70&amp;image_uri=https%3A%2F%2Fs.yimg.com%2Fuu%2Fapi%2Fres%2F1.2%2FZvMvQrSQlHjI1WDJNmX52g--%7EB%2FaD0xMjgwO3c9OTYwO2FwcGlkPXl0YWNoeW9u%2Fhttps%3A%2F%2Fs.blogcdn.com%2Fwww.engadget.com%2Fmedia%2F2017%2F04%2Fprofile-picture.jpg&amp;client=amp-blogside-v2&amp;signature=f3df9db0dc6b91ff4bd03579f64c15c5ed911813\" width=\"30px\"/>\\n</a>\\n<div class=\"h-1 w-40 inline-block \"></div>\\n<span class=\"t-meta pb-0 vt mt-5@tp+ w-185@m mr-10@tp+ pt-20@m- \">\\n<span class=\"hide@m-\">By </span>\\n<span><a class=\"th-meta\" data-rapid_p=\"4\" data-v9y=\"1\" data-ylk=\"slk:Mariella%20Moon;pos:2;cpos:1;elm:link;\" href=\"/about/editors/mariella-moon\">M. Moon</a></span><span class=\"hide@m- hide@\">, </span><span class=\" hide@\">\\n                \\xa01h ago</span></span> </div>\\n<div class=\"inline-block@tp+ relative@tp+ t-2@tp+ o-feed_share@m- mt-5@m \" style=\"vertical-align: -2px\"> <!-- share-macro -->\\n<div class=\"o-feed_share@m-__item icon-divider@tp+ relative i-share_overlay\" data-behavior=\"ShareOverlay\">\\n<div class=\"bg-gray-2 o-share_ui i-share_overlay__over o-h\" data-share-overlay-over=\"\" style=\"height: 0px;\">\\n<div style=\"padding-top: 8px\">\\n<div class=\"icon-20-line-height\">\\n<a class=\"c-white:hvr block o-share_ui__item sharebtn twitter-share\" data-behavior=\"Pop\" data-engadget-h=\"430\" data-engadget-pop-w=\"670\" data-engadget-popname=\"engadget_share\" data-rapid_p=\"5\" data-v9y=\"1\" data-ylk=\"slk:twitter;elm:share;tar:https://twitter.com;\" href=\"https://twitter.com/share?url=https%3A%2F%2Fwww.engadget.com%2Fgoogle-1440p-streaming-resolution-stadia-chrome-064515601.html&amp;text=Google%20adds%201440p%20streaming%20resolution%20for%20Stadia%20on%20Chrome&amp;via=engadget\" rel=\"noopener noreferrer\" target=\"_blank\">\\n<svg class=\"inline-block icon vm\" xmlns=\"http://www.w3.org/2000/svg\"><use xlink:href=\"#icon-twitter\" xmlns:xlink=\"http://www.w3.org/1999/xlink\"></use></svg>\\n</a>\\n</div>\\n<div class=\"icon-20-line-height\">\\n<a class=\"c-white:hvr block o-share_ui__item sharebtn facebook-share\" data-behavior=\"Pop\" data-engadget-h=\"636\" data-engadget-pop-w=\"560\" data-engadget-popname=\"engadget_share\" data-rapid_p=\"6\" data-v9y=\"1\" data-ylk=\"slk:facebook;elm:share;tar:https://facebook.com;\" href=\"https://www.facebook.com/dialog/share?app_id=132746074315&amp;display=popup&amp;href=https%3A%2F%2Fwww.engadget.com%2F'"
      ]
     },
     "execution_count": 11,
     "metadata": {},
     "output_type": "execute_result"
    }
   ],
   "source": [
    "str(soup.find(id = 'engadget-the-latest'))[:5000]"
   ]
  },
  {
   "cell_type": "code",
   "execution_count": 12,
   "metadata": {},
   "outputs": [],
   "source": [
    "art_name = []\n",
    "for item in soup.find(id = 'engadget-the-latest').find_all('h2'):\n",
    "    if \"mt-10@tp+ t-h4@s t-h3-c@m t-h3-b@tp t-h4@tl t-h3@d\" in str(item):\n",
    "        art_name.append(item.text)\n",
    "        \n",
    "art_name = art_name[1:]"
   ]
  },
  {
   "cell_type": "code",
   "execution_count": 13,
   "metadata": {},
   "outputs": [
    {
     "data": {
      "text/plain": [
       "21"
      ]
     },
     "execution_count": 13,
     "metadata": {},
     "output_type": "execute_result"
    }
   ],
   "source": [
    "len(art_name)"
   ]
  },
  {
   "cell_type": "code",
   "execution_count": 26,
   "metadata": {},
   "outputs": [
    {
     "name": "stdout",
     "output_type": "stream",
     "text": [
      "\n",
      "\n",
      "                  YouTube Kids is now on Apple TV\n",
      "              \n",
      "\n",
      "\n",
      "\n",
      "                  LG's first 48-inch 4K OLED TV is starting to roll out\n",
      "              \n",
      "\n",
      "\n",
      "\n",
      "                  South Korean cafe uses robotic baristas to comply with social distancing\n",
      "              \n",
      "\n",
      "\n",
      "\n",
      "                      Sleep soundly every night with this top-rated app\n",
      "                    \n",
      "\n",
      "\n",
      "\n",
      "                  MacOS Catalina update wrings more life from your MacBook's battery\n",
      "              \n",
      "\n"
     ]
    },
    {
     "data": {
      "text/plain": [
       "[None, None, None, None, None]"
      ]
     },
     "execution_count": 26,
     "metadata": {},
     "output_type": "execute_result"
    }
   ],
   "source": [
    "[print(item) for item in art_name[:5]]"
   ]
  },
  {
   "cell_type": "code",
   "execution_count": 15,
   "metadata": {},
   "outputs": [
    {
     "data": {
      "text/plain": [
       "'/you-tube-kids-on-apple-tv-043113790.html'"
      ]
     },
     "execution_count": 15,
     "metadata": {},
     "output_type": "execute_result"
    }
   ],
   "source": [
    "soup.find(id = 'engadget-the-latest').find_all('article')[1].find_all('a')[-1].get('href')"
   ]
  },
  {
   "cell_type": "code",
   "execution_count": 16,
   "metadata": {},
   "outputs": [],
   "source": [
    "art_refs = []\n",
    "for item in soup.find(id = 'engadget-the-latest').find_all('article')[1:]:\n",
    "    art_refs.append(item.find_all('a')[-1].get('href'))"
   ]
  },
  {
   "cell_type": "code",
   "execution_count": 17,
   "metadata": {},
   "outputs": [
    {
     "data": {
      "text/plain": [
       "21"
      ]
     },
     "execution_count": 17,
     "metadata": {},
     "output_type": "execute_result"
    }
   ],
   "source": [
    "len(art_refs)"
   ]
  },
  {
   "cell_type": "code",
   "execution_count": 18,
   "metadata": {},
   "outputs": [],
   "source": [
    "import pandas as pd\n",
    "articles = pd.DataFrame({'article_names' : art_name, 'article_urls' : art_refs})"
   ]
  },
  {
   "cell_type": "markdown",
   "metadata": {},
   "source": [
    "### After getting both the articles and the urls to them, we will end up going back through one final time to visit every single page and then actually peel out all of the article text from each page"
   ]
  },
  {
   "cell_type": "code",
   "execution_count": 19,
   "metadata": {},
   "outputs": [
    {
     "data": {
      "text/html": [
       "<div>\n",
       "<style scoped>\n",
       "    .dataframe tbody tr th:only-of-type {\n",
       "        vertical-align: middle;\n",
       "    }\n",
       "\n",
       "    .dataframe tbody tr th {\n",
       "        vertical-align: top;\n",
       "    }\n",
       "\n",
       "    .dataframe thead th {\n",
       "        text-align: right;\n",
       "    }\n",
       "</style>\n",
       "<table border=\"1\" class=\"dataframe\">\n",
       "  <thead>\n",
       "    <tr style=\"text-align: right;\">\n",
       "      <th></th>\n",
       "      <th>article_names</th>\n",
       "      <th>article_urls</th>\n",
       "    </tr>\n",
       "  </thead>\n",
       "  <tbody>\n",
       "    <tr>\n",
       "      <th>0</th>\n",
       "      <td>\\n\\n                  YouTube Kids is now on A...</td>\n",
       "      <td>/you-tube-kids-on-apple-tv-043113790.html</td>\n",
       "    </tr>\n",
       "    <tr>\n",
       "      <th>1</th>\n",
       "      <td>\\n\\n                  LG's first 48-inch 4K OL...</td>\n",
       "      <td>/lg-48cx-4k-oled-022836116.html</td>\n",
       "    </tr>\n",
       "    <tr>\n",
       "      <th>2</th>\n",
       "      <td>\\n\\n                  South Korean cafe uses r...</td>\n",
       "      <td>/south-korea-cafe-robotic-baristas-011123262.html</td>\n",
       "    </tr>\n",
       "    <tr>\n",
       "      <th>3</th>\n",
       "      <td>\\n\\n                      Sleep soundly every ...</td>\n",
       "      <td>https://beap.gemini.yahoo.com/mbclk?bv=1.0.0&amp;e...</td>\n",
       "    </tr>\n",
       "    <tr>\n",
       "      <th>4</th>\n",
       "      <td>\\n\\n                  MacOS Catalina update wr...</td>\n",
       "      <td>/macos-catalina-battery-health-management-upda...</td>\n",
       "    </tr>\n",
       "    <tr>\n",
       "      <th>5</th>\n",
       "      <td>\\n\\n                  Twitter fact checks Trum...</td>\n",
       "      <td>/twitter-fact-checks-donald-trump-223653101.html</td>\n",
       "    </tr>\n",
       "    <tr>\n",
       "      <th>6</th>\n",
       "      <td>\\n\\n                  Google's work from home ...</td>\n",
       "      <td>/google-work-from-home-allowance-221701178.html</td>\n",
       "    </tr>\n",
       "    <tr>\n",
       "      <th>7</th>\n",
       "      <td>\\n\\n                  Microsoft Edge has a cut...</td>\n",
       "      <td>/microsoft-edge-surf-game-214711550.html</td>\n",
       "    </tr>\n",
       "    <tr>\n",
       "      <th>8</th>\n",
       "      <td>\\n\\n                      This Ableton and Log...</td>\n",
       "      <td>https://beap.gemini.yahoo.com/mbclk?bv=1.0.0&amp;e...</td>\n",
       "    </tr>\n",
       "    <tr>\n",
       "      <th>9</th>\n",
       "      <td>\\n\\n                  Blizzard has canceled th...</td>\n",
       "      <td>/blizzard-blizzcon-event-canceled-covid-19-cor...</td>\n",
       "    </tr>\n",
       "    <tr>\n",
       "      <th>10</th>\n",
       "      <td>\\n\\n                  Facebook's own research ...</td>\n",
       "      <td>/facebook-resisted-efforts-to-be-less-divisive...</td>\n",
       "    </tr>\n",
       "    <tr>\n",
       "      <th>11</th>\n",
       "      <td>\\n\\n                  Qatar’s contact tracing ...</td>\n",
       "      <td>/qatar-contact-tracing-app-security-flaw-20205...</td>\n",
       "    </tr>\n",
       "    <tr>\n",
       "      <th>12</th>\n",
       "      <td>\\n\\n                  The next 'Dead By Daylig...</td>\n",
       "      <td>/dead-by-daylight-silent-hill-pyramid-head-200...</td>\n",
       "    </tr>\n",
       "    <tr>\n",
       "      <th>13</th>\n",
       "      <td>\\n\\n                  'Pokémon Go' will better...</td>\n",
       "      <td>/pokemon-go-ar-reality-blending-and-pokestop-s...</td>\n",
       "    </tr>\n",
       "    <tr>\n",
       "      <th>14</th>\n",
       "      <td>\\n\\n                  YouTube blames bug for c...</td>\n",
       "      <td>/youtube-bug-censoring-comments-against-china-...</td>\n",
       "    </tr>\n",
       "    <tr>\n",
       "      <th>15</th>\n",
       "      <td>\\n\\n                  Twitch splurges to keep ...</td>\n",
       "      <td>/twitch-deals-for-dakotaz-joshog-summit1g-1902...</td>\n",
       "    </tr>\n",
       "    <tr>\n",
       "      <th>16</th>\n",
       "      <td>\\n\\n                  Apple fixed the bug that...</td>\n",
       "      <td>/apple-fixes-ios-family-sharing-app-bug-182318...</td>\n",
       "    </tr>\n",
       "    <tr>\n",
       "      <th>17</th>\n",
       "      <td>\\n\\n                  Facebook’s latest experi...</td>\n",
       "      <td>/facebook-catchup-group-audio-calls-app-181229...</td>\n",
       "    </tr>\n",
       "    <tr>\n",
       "      <th>18</th>\n",
       "      <td>\\n\\n                  Uber, Lyft drivers sue N...</td>\n",
       "      <td>/uber-lyft-drivers-sue-new-york-benefits-17585...</td>\n",
       "    </tr>\n",
       "    <tr>\n",
       "      <th>19</th>\n",
       "      <td>\\n\\n                  House amendment would re...</td>\n",
       "      <td>/patriot-act-reauthorization-house-deal-sectio...</td>\n",
       "    </tr>\n",
       "    <tr>\n",
       "      <th>20</th>\n",
       "      <td>\\n\\n                  Watch footage of Arkane'...</td>\n",
       "      <td>/half-life-ravenholm-arkane-footage-171136901....</td>\n",
       "    </tr>\n",
       "  </tbody>\n",
       "</table>\n",
       "</div>"
      ],
      "text/plain": [
       "                                        article_names  \\\n",
       "0   \\n\\n                  YouTube Kids is now on A...   \n",
       "1   \\n\\n                  LG's first 48-inch 4K OL...   \n",
       "2   \\n\\n                  South Korean cafe uses r...   \n",
       "3   \\n\\n                      Sleep soundly every ...   \n",
       "4   \\n\\n                  MacOS Catalina update wr...   \n",
       "5   \\n\\n                  Twitter fact checks Trum...   \n",
       "6   \\n\\n                  Google's work from home ...   \n",
       "7   \\n\\n                  Microsoft Edge has a cut...   \n",
       "8   \\n\\n                      This Ableton and Log...   \n",
       "9   \\n\\n                  Blizzard has canceled th...   \n",
       "10  \\n\\n                  Facebook's own research ...   \n",
       "11  \\n\\n                  Qatar’s contact tracing ...   \n",
       "12  \\n\\n                  The next 'Dead By Daylig...   \n",
       "13  \\n\\n                  'Pokémon Go' will better...   \n",
       "14  \\n\\n                  YouTube blames bug for c...   \n",
       "15  \\n\\n                  Twitch splurges to keep ...   \n",
       "16  \\n\\n                  Apple fixed the bug that...   \n",
       "17  \\n\\n                  Facebook’s latest experi...   \n",
       "18  \\n\\n                  Uber, Lyft drivers sue N...   \n",
       "19  \\n\\n                  House amendment would re...   \n",
       "20  \\n\\n                  Watch footage of Arkane'...   \n",
       "\n",
       "                                         article_urls  \n",
       "0           /you-tube-kids-on-apple-tv-043113790.html  \n",
       "1                     /lg-48cx-4k-oled-022836116.html  \n",
       "2   /south-korea-cafe-robotic-baristas-011123262.html  \n",
       "3   https://beap.gemini.yahoo.com/mbclk?bv=1.0.0&e...  \n",
       "4   /macos-catalina-battery-health-management-upda...  \n",
       "5    /twitter-fact-checks-donald-trump-223653101.html  \n",
       "6     /google-work-from-home-allowance-221701178.html  \n",
       "7            /microsoft-edge-surf-game-214711550.html  \n",
       "8   https://beap.gemini.yahoo.com/mbclk?bv=1.0.0&e...  \n",
       "9   /blizzard-blizzcon-event-canceled-covid-19-cor...  \n",
       "10  /facebook-resisted-efforts-to-be-less-divisive...  \n",
       "11  /qatar-contact-tracing-app-security-flaw-20205...  \n",
       "12  /dead-by-daylight-silent-hill-pyramid-head-200...  \n",
       "13  /pokemon-go-ar-reality-blending-and-pokestop-s...  \n",
       "14  /youtube-bug-censoring-comments-against-china-...  \n",
       "15  /twitch-deals-for-dakotaz-joshog-summit1g-1902...  \n",
       "16  /apple-fixes-ios-family-sharing-app-bug-182318...  \n",
       "17  /facebook-catchup-group-audio-calls-app-181229...  \n",
       "18  /uber-lyft-drivers-sue-new-york-benefits-17585...  \n",
       "19  /patriot-act-reauthorization-house-deal-sectio...  \n",
       "20  /half-life-ravenholm-arkane-footage-171136901....  "
      ]
     },
     "execution_count": 19,
     "metadata": {},
     "output_type": "execute_result"
    }
   ],
   "source": [
    "articles"
   ]
  },
  {
   "cell_type": "code",
   "execution_count": 20,
   "metadata": {},
   "outputs": [],
   "source": [
    "clean_df = articles[~articles.article_urls.str.contains('https')]\n",
    "\n",
    "final_urls = list(articles[~articles.article_urls.str.contains('https')].article_urls)\n",
    "\n",
    "top_df = clean_df.head()"
   ]
  },
  {
   "cell_type": "code",
   "execution_count": 21,
   "metadata": {},
   "outputs": [],
   "source": [
    "def get_article_text(url_part):\n",
    "    \n",
    "    temp_list = []\n",
    "    browser.visit(f'https://engadget.com{url_part}')\n",
    "    temp_soup = BeautifulSoup(browser.html, 'html.parser')\n",
    "    \n",
    "    for item in temp_soup.find(id = 'page_body').find_all('p'):\n",
    "        temp_list.append(item.get_text())\n",
    "    \n",
    "    finalstring = ''\n",
    "    for item in temp_list:\n",
    "        finalstring = finalstring + item\n",
    "    return(finalstring)"
   ]
  },
  {
   "cell_type": "code",
   "execution_count": 22,
   "metadata": {},
   "outputs": [
    {
     "name": "stderr",
     "output_type": "stream",
     "text": [
      "/Users/tomraczkowski/anaconda3/envs/PythonData/lib/python3.6/site-packages/ipykernel_launcher.py:1: SettingWithCopyWarning: \n",
      "A value is trying to be set on a copy of a slice from a DataFrame.\n",
      "Try using .loc[row_indexer,col_indexer] = value instead\n",
      "\n",
      "See the caveats in the documentation: http://pandas.pydata.org/pandas-docs/stable/indexing.html#indexing-view-versus-copy\n",
      "  \"\"\"Entry point for launching an IPython kernel.\n"
     ]
    }
   ],
   "source": [
    "top_df['arts'] = top_df.article_urls.apply(get_article_text)"
   ]
  },
  {
   "cell_type": "code",
   "execution_count": 23,
   "metadata": {},
   "outputs": [
    {
     "data": {
      "text/plain": [
       "[<p>YouTube’s dedicated app for kids is now <a data-rapid_p=\"1\" data-v9y=\"1\" href=\"https://support.google.com/youtubekids/thread/49349707\" target=\"_blank\">out for download</a> from the App Store on Apple TV, so long as it’s available in your region. It works on both the 4K and the HD versions of the device, and you can use the Siri Remote to fire it up by saying “Hey Siri, open YouTube Kids.” While you can let your kids use the app without signing in, you’ll have to log in to import your current parental control settings, though you can always change them through the app on a phone or a tablet.</p>,\n",
       " <p>YouTube Kids launched as an app for mobile devices in 2015 to provide children a curated selection of age-appropriate content. Since then, YouTube has rolled out the app to various smart TVs and eventually launched a <a data-rapid_p=\"2\" data-v9y=\"0\" href=\"https://www.engadget.com/2019-08-29-youtube-kids-website.html\">desktop version</a>. The platform has been dealing with <a data-rapid_p=\"3\" data-v9y=\"0\" href=\"https://www.engadget.com/2018-03-23-youtube-still-plagued-disturbing-kids-videos.html\">child-exploitative videos</a> masquerading as child-friendly content on its website for years. While the YouTube Kids app has had its own share of issues — back in 2018, it <a data-rapid_p=\"4\" data-v9y=\"0\" href=\"https://www.engadget.com/2018-03-18-youtube-kids-suggested-conspiracy-videos.html\">suggested</a> conspiracy theory videos when you search for certain keywords — it could keep children away from the most egregious videos on the platform.</p>]"
      ]
     },
     "execution_count": 23,
     "metadata": {},
     "output_type": "execute_result"
    }
   ],
   "source": [
    "browser.visit(f'https://engadget.com{final_urls[0]}')\n",
    "browser.html\n",
    "\n",
    "last_soup = BeautifulSoup(browser.html, 'html.parser')\n",
    "last_soup.find(id = 'page_body').find_all('p')"
   ]
  },
  {
   "cell_type": "code",
   "execution_count": 24,
   "metadata": {},
   "outputs": [
    {
     "data": {
      "text/plain": [
       "'YouTube’s dedicated app for kids is now out for download from the App Store on Apple TV, so long as it’s available in your region. It works on both the 4K and the HD versions of the device, and you can use the Siri Remote to fire it up by saying “Hey Siri, open YouTube Kids.” While you can let your kids use the app without signing in, you’ll have to log in to import your current parental control settings, though you can always change them through the app on a phone or a tablet.YouTube Kids launched as an app for mobile devices in 2015 to provide children a curated selection of age-appropriate content. Since then, YouTube has rolled out the app to various smart TVs and eventually launched a desktop version. The platform has been dealing with child-exploitative videos masquerading as child-friendly content on its website for years. While the YouTube Kids app has had its own share of issues — back in 2018, it suggested conspiracy theory videos when you search for certain keywords — it could keep children away from the most egregious videos on the platform.'"
      ]
     },
     "execution_count": 24,
     "metadata": {},
     "output_type": "execute_result"
    }
   ],
   "source": [
    "top_df.arts[0]"
   ]
  },
  {
   "cell_type": "markdown",
   "metadata": {},
   "source": [
    "### Will want to briefly talk about how to move through several pages.\n",
    "\n",
    "- Again, there are so many different use-cases for scraping that you'll want to think carefully about your goals\n",
    "\n",
    "- In this specific use-case, we may want to visit several pages, get all of the article names and urls, and then send another scraper through to pull information from all of the articles.\n",
    "\n",
    "- Again, you will always want to make sure that you are scraping ethically and in a way that won't cause you any trouble in the future. Much like APIs, it is best-practice to pull a page once, learn the ins and outs of it, and then when you have built up a good parser, you can run it over several of the same style page.\n",
    "\n",
    "- Nearly every website will have pages that repeat, and once you undrstand how that html scaffold looks, you'll be able to parse it very efficiently.\n",
    "\n",
    "- Keep in mind that the more obviously non-human the activity of your scraper is, the more likely it is that you'll be caught."
   ]
  },
  {
   "cell_type": "code",
   "execution_count": 25,
   "metadata": {},
   "outputs": [],
   "source": [
    "for num in range (1,6):\n",
    "    browser.visit(f'https://www.engadget.com/all/page/{num}/')"
   ]
  }
 ],
 "metadata": {
  "kernelspec": {
   "display_name": "Python [conda env:PythonData] *",
   "language": "python",
   "name": "conda-env-PythonData-py"
  },
  "language_info": {
   "codemirror_mode": {
    "name": "ipython",
    "version": 3
   },
   "file_extension": ".py",
   "mimetype": "text/x-python",
   "name": "python",
   "nbconvert_exporter": "python",
   "pygments_lexer": "ipython3",
   "version": "3.6.8"
  }
 },
 "nbformat": 4,
 "nbformat_minor": 4
}
