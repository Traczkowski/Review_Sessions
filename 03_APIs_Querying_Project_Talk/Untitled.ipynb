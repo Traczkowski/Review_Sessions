{
 "cells": [
  {
   "cell_type": "markdown",
   "metadata": {},
   "source": [
    "### Review: Libraries and APIs, Querying as a concept (brief intro to SQL), and Project Talk"
   ]
  },
  {
   "cell_type": "markdown",
   "metadata": {},
   "source": [
    "#### First, I wanted to discuss a little bit about different Library and API documentation...\n",
    "- There is a huge variety of developers out there, some with more time, some with less.\n",
    "- You'll see a different level of effort in different documentation. I see within my own organization all of the time that we have developers who would rather keep on coding, and that coming up with documentation is a hard process on my product manager.\n",
    "- We are often asked about api documentation in class, and the truth is that outside of the fairly standard \"api key\", and the fairly wide adoption of JSON (though there are different commonly used formats like XML), the world of APIs is pretty wild west.\n",
    "- What that means is that support for different languages may be spotty, pricing schemes may vary wildly, ability to contact the team that is producing the data can be tough, and even performance may be different!\n",
    "- As with everything in the computing/data world, tehre are best-practices out there, but how effectively they are followed also varies hugely.\n",
    "\n",
    "#### Often, outside of Googling, you have 2 very solid options\n",
    "- Go right to the source (EX: Twitter documentation at https://developer.twitter.com/en/docs). If the original team that built the API has good documentation, that will likely be the best place to go!\n",
    "- You'll also find that https://readthedocs.org/ is a very good resource for Library and API documentation as well, you may have already found yourself on their site already, and there seems to be good reason for that. They are an aggregator, and their community attempts to bring similarly structured API documentation to the broader world of APIs\n",
    "- For unique \"How can I do X with Y api/library/framework?\" questions, you can still always look up a specific article on one of the blogs you've likely taken a liking to by this point in the cohort (EX: https://towardsdatascience.com/accessing-google-calendar-events-data-using-python-e915599d3ae2)\n",
    "\n",
    "#### To provide some additional context, I wanted to talk about how APIs are used in different parts of an organization\n",
    "- We have already discussed in class that there are obvious uses throughout many organizations and that there is a slew of use-cases for different APIs\n",
    "- Wanted to talk about some real-world applications that I've seen out in the field and open it up to anybody that is data-adjacent already and would maybe want to share a bit of their experience with it.\n",
    "\n",
    "##### This certainly won't cover all of the edge cases, but I would lump a lot of API usage within organizations that I've seen into ~3 buckets.\n",
    "1. Gathering Data\n",
    "2. Manipulating Data/Cleaning Data/Adding Signal to Data\n",
    "3. Moving Data/Pushing it to a front-end"
   ]
  },
  {
   "cell_type": "markdown",
   "metadata": {},
   "source": [
    "### 1. Gathering Data\n",
    "- This is the use-case that nearly all of you should already be familiar with.\n",
    "- The openweathermaps API is a wonderful source of data to play with as a first example. We're all familiar with the weather, so that's a great reason to delve into this one\n",
    "- Some other examples of good APIs to gather data are...\n",
    "- Twitter (above)\n",
    "- Reddit (https://www.reddit.com/dev/api/)\n",
    "- Cryptocurrency or Financial Data (https://www.coindesk.com/coindesk-api)\n",
    "- Current events (do a search for Covid-19 APIs , but do your reasearch before using any of them, people will always jump on hot topics with inaccurate data or potentially even malicious uses)\n",
    "\n",
    "### You will likely use APIs to pass data back and forth to both your clients as well as companies that you are a client of as well as potentially other teams\n",
    "- EX 1: If your company is involved with finance, you may have an API connection set up with an exchange that you buy from.\n",
    "- EX 2: As your company generates data, your clients may ask for certain reports to be passed to them programatically. This can be handled by using an api connection.\n",
    "- EX 3: If your client is generating data that is relevant to you... For example, you make smart lightbulbs that monitor temperature of whatever facility that they are installed in, but once you have sold the bulbs to your client, they aggregate all of the data from those bulbs and then pass it back to you in JSON format because they have built a clever API.\n",
    "\n",
    "\n",
    "### Some considerations when gathering data\n",
    "- Data Accuracy\n",
    "- Uptime\n",
    "- Query Speed\n",
    "- Data Cleanliness\n",
    "- Cost"
   ]
  },
  {
   "cell_type": "code",
   "execution_count": 7,
   "metadata": {},
   "outputs": [],
   "source": [
    "import config\n",
    "import requests\n",
    "weather_api_key = config.owm\n",
    "\n",
    "url = \"http://api.openweathermap.org/data/2.5/weather?units=Imperial&APPID=\" + weather_api_key \n",
    "city_weather = requests.get(url + \"&q=Atlanta\").json()"
   ]
  },
  {
   "cell_type": "code",
   "execution_count": 8,
   "metadata": {},
   "outputs": [
    {
     "data": {
      "text/plain": [
       "{'base': 'stations',\n",
       " 'clouds': {'all': 20},\n",
       " 'cod': 200,\n",
       " 'coord': {'lat': 33.75, 'lon': -84.39},\n",
       " 'dt': 1587595483,\n",
       " 'id': 4180439,\n",
       " 'main': {'feels_like': 63.97,\n",
       "  'humidity': 30,\n",
       "  'pressure': 1016,\n",
       "  'temp': 69.44,\n",
       "  'temp_max': 71.01,\n",
       "  'temp_min': 68},\n",
       " 'name': 'Atlanta',\n",
       " 'sys': {'country': 'US',\n",
       "  'id': 4155,\n",
       "  'sunrise': 1587553065,\n",
       "  'sunset': 1587600827,\n",
       "  'type': 1},\n",
       " 'timezone': -14400,\n",
       " 'visibility': 16093,\n",
       " 'weather': [{'description': 'few clouds',\n",
       "   'icon': '02d',\n",
       "   'id': 801,\n",
       "   'main': 'Clouds'}],\n",
       " 'wind': {'deg': 190, 'speed': 4.7}}"
      ]
     },
     "execution_count": 8,
     "metadata": {},
     "output_type": "execute_result"
    }
   ],
   "source": [
    "city_weather"
   ]
  },
  {
   "cell_type": "code",
   "execution_count": 14,
   "metadata": {},
   "outputs": [
    {
     "data": {
      "text/plain": [
       "{'feels_like': 63.97,\n",
       " 'humidity': 30,\n",
       " 'pressure': 1016,\n",
       " 'temp': 69.44,\n",
       " 'temp_max': 71.01,\n",
       " 'temp_min': 68}"
      ]
     },
     "execution_count": 14,
     "metadata": {},
     "output_type": "execute_result"
    }
   ],
   "source": [
    "city_weather['main']"
   ]
  },
  {
   "cell_type": "code",
   "execution_count": 13,
   "metadata": {},
   "outputs": [
    {
     "data": {
      "text/plain": [
       "63.97"
      ]
     },
     "execution_count": 13,
     "metadata": {},
     "output_type": "execute_result"
    }
   ],
   "source": [
    "city_weather['main']['feels_like']"
   ]
  },
  {
   "cell_type": "markdown",
   "metadata": {},
   "source": [
    "### Here, we will build off of the lightbulb example I mentioned above, if we imagine that we are no longer querying against openweathermaps, but we are making a call to my client's database.\n",
    "- What we've written below may be referred to as a wrapper\n",
    "- Your client may end up with a wrapper to an existing object\n",
    "- As with all other APIs, you will have to think about what your client is passing you and how to query it"
   ]
  },
  {
   "cell_type": "code",
   "execution_count": 15,
   "metadata": {},
   "outputs": [],
   "source": [
    "def client_api(city_list):\n",
    "    weather_dict = {}\n",
    "    for item in city_list:\n",
    "        weather_dict[item] = requests.get(url + f\"&q={item}\").json()\n",
    "        weather_dict[item]['Message'] = \"\"\"You're a great dev!\"\"\"\n",
    "        weather_dict[item]['City Description'] = f\"{item} is a lovely place\"\n",
    "        weather_dict[item]['Time Left'] = '50 hours'\n",
    "    return(weather_dict)"
   ]
  },
  {
   "cell_type": "code",
   "execution_count": 16,
   "metadata": {},
   "outputs": [],
   "source": [
    "weather = client_api(['Atlanta', 'Clemson'])"
   ]
  },
  {
   "cell_type": "code",
   "execution_count": 17,
   "metadata": {},
   "outputs": [
    {
     "data": {
      "text/plain": [
       "{'Atlanta': {'City Description': 'Atlanta is a lovely place',\n",
       "  'Message': \"You're a great dev!\",\n",
       "  'Time Left': '50 hours',\n",
       "  'base': 'stations',\n",
       "  'clouds': {'all': 20},\n",
       "  'cod': 200,\n",
       "  'coord': {'lat': 33.75, 'lon': -84.39},\n",
       "  'dt': 1587595874,\n",
       "  'id': 4180439,\n",
       "  'main': {'feels_like': 63.41,\n",
       "   'humidity': 30,\n",
       "   'pressure': 1016,\n",
       "   'temp': 68.95,\n",
       "   'temp_max': 71.01,\n",
       "   'temp_min': 66.99},\n",
       "  'name': 'Atlanta',\n",
       "  'sys': {'country': 'US',\n",
       "   'id': 4155,\n",
       "   'sunrise': 1587553065,\n",
       "   'sunset': 1587600827,\n",
       "   'type': 1},\n",
       "  'timezone': -14400,\n",
       "  'visibility': 16093,\n",
       "  'weather': [{'description': 'few clouds',\n",
       "    'icon': '02d',\n",
       "    'id': 801,\n",
       "    'main': 'Clouds'}],\n",
       "  'wind': {'deg': 190, 'speed': 4.7}},\n",
       " 'Clemson': {'City Description': 'Clemson is a lovely place',\n",
       "  'Message': \"You're a great dev!\",\n",
       "  'Time Left': '50 hours',\n",
       "  'base': 'stations',\n",
       "  'clouds': {'all': 1},\n",
       "  'cod': 200,\n",
       "  'coord': {'lat': 34.68, 'lon': -82.84},\n",
       "  'dt': 1587596112,\n",
       "  'id': 4574989,\n",
       "  'main': {'feels_like': 62.6,\n",
       "   'humidity': 32,\n",
       "   'pressure': 1017,\n",
       "   'temp': 68.56,\n",
       "   'temp_max': 71.6,\n",
       "   'temp_min': 66.99},\n",
       "  'name': 'Clemson',\n",
       "  'sys': {'country': 'US',\n",
       "   'id': 3596,\n",
       "   'sunrise': 1587552618,\n",
       "   'sunset': 1587600531,\n",
       "   'type': 1},\n",
       "  'timezone': -14400,\n",
       "  'visibility': 16093,\n",
       "  'weather': [{'description': 'clear sky',\n",
       "    'icon': '01d',\n",
       "    'id': 800,\n",
       "    'main': 'Clear'}],\n",
       "  'wind': {'speed': 5.82}}}"
      ]
     },
     "execution_count": 17,
     "metadata": {},
     "output_type": "execute_result"
    }
   ],
   "source": [
    "weather"
   ]
  },
  {
   "cell_type": "markdown",
   "metadata": {},
   "source": [
    "### 2. Manipulating/Cleaning/Adding signal to data\n",
    "- So your team or organization is making its own data, sounds like you don't need an API anymore right? Well maybe...\n",
    "- There are many, many use-cases out there where data will need additional signal added.\n",
    "- EX 1: You are collecting IP address data from your users, and you will want to understand more about the IP addresses, you can pass them an IP, and then they can pass back some information for you (DEMO)\n",
    "- https://geo.ipify.org/docs\n",
    "- https://ip-api.com/#66.57.27.5\n",
    "- EX 2: You are a shipper of goods, you are getting addresses passed to you constantly in a stream, and lets say that if you send something to the wrong place, that mistake will come out of your pocket. There is good news, there are several APIs that you can use for that! (UPS and Google both have one) https://www.ups.com/assets/resources/media/en_US/ups-dev-kit-user-guide.pdf\n",
    "- EX 3: More on the web development side... You have recaptcha https://developers.google.com/recaptcha/intro running on your website, you can see a user's activity on your site already, but calling out to recaptcha may help you understand more about whether or not a user is tagged by Google as malicious...\n",
    "- And many, many more!\n",
    "\n",
    "### After pinging these APIs...\n",
    "- You would likely bring back the data and store it for future use (think about this as joining it to an existing table)\n",
    "- Whether your database is SQL or otherwise, you can bring it back, use it for logic that you have built out, and then either delete it, or keep it...\n",
    "- Sometimes you will have API's \"In Production\" vs. sometimes you will be using these APIs in a completely ad-hoc manner (EX: You do a data analysis project, join it up to data that is valuable, and then propagate that information back to your head of product or CEO, and if the cost to the business is outweighed by the benefits, you may want to start chatting with data engineers about how you used the API, you can get it bought into production!\n"
   ]
  },
  {
   "cell_type": "markdown",
   "metadata": {},
   "source": [
    "### 3. Moving/Finalizing Data/\"Front-end\"\n",
    "- After you've done all that you need to do, you may want to pass your information off to someone, but depending on where the information is destined to go, you will have to make a decision as to how you want to send it out.\n",
    "- If you have a small organization and only need to drop your data off and do some quick reporting, but don't want to copy and paste reports consistently, you can drop them off in Google sheets (that's why I put front-end in quotes, a front-end is whatever your customer wants it to be!) https://gsheets.readthedocs.io/en/stable/\n",
    "- If you have a larger organization, you may have to send data off to a data warehouse such as Google's Bigquery (https://google-cloud-python.readthedocs.io/en/0.32.0/bigquery/usage.html) (https://cloud.google.com/bigquery/docs/tables)\n",
    "- You may even have to send data to a table in your own company's database (or query from it too!) Although this is not necessarily an API call, it is still a form of querying. (One that we'll be exploring later this week)\n",
    "- There are a ton of frameworks out there for front-end that we'll learn about as well (bootstrap being one of them), and there are also CDN's (like Bootstrap), which fulfill a similar role to some APIs\n",
    "- I briefly wanted to hit on just how important querying against your own company's data is going to be as well in your future. You may or may not use an API if you're getting data from a different team, and things will vary wildly from company to company, but you may also be pulling data from a standard sql database as well!"
   ]
  },
  {
   "cell_type": "code",
   "execution_count": 6,
   "metadata": {},
   "outputs": [
    {
     "ename": "OperationalError",
     "evalue": "invalid port number: \"someport\"\n",
     "output_type": "error",
     "traceback": [
      "\u001b[0;31m---------------------------------------------------------------------------\u001b[0m",
      "\u001b[0;31mOperationalError\u001b[0m                          Traceback (most recent call last)",
      "\u001b[0;32m<ipython-input-6-887473ae5ca4>\u001b[0m in \u001b[0;36m<module>\u001b[0;34m()\u001b[0m\n\u001b[1;32m      1\u001b[0m \u001b[0;32mimport\u001b[0m \u001b[0mpsycopg2\u001b[0m \u001b[0;32mas\u001b[0m \u001b[0mps2\u001b[0m\u001b[0;34m\u001b[0m\u001b[0;34m\u001b[0m\u001b[0m\n\u001b[1;32m      2\u001b[0m \u001b[0;34m\u001b[0m\u001b[0m\n\u001b[0;32m----> 3\u001b[0;31m \u001b[0mconn\u001b[0m \u001b[0;34m=\u001b[0m \u001b[0mps2\u001b[0m\u001b[0;34m.\u001b[0m\u001b[0mconnect\u001b[0m\u001b[0;34m(\u001b[0m\u001b[0mdbname\u001b[0m \u001b[0;34m=\u001b[0m \u001b[0;34m'somedb'\u001b[0m\u001b[0;34m,\u001b[0m \u001b[0mhost\u001b[0m \u001b[0;34m=\u001b[0m \u001b[0;34m'somehost'\u001b[0m\u001b[0;34m,\u001b[0m \u001b[0mport\u001b[0m \u001b[0;34m=\u001b[0m \u001b[0;34m'someport'\u001b[0m\u001b[0;34m,\u001b[0m \u001b[0muser\u001b[0m \u001b[0;34m=\u001b[0m \u001b[0mconfig\u001b[0m\u001b[0;34m.\u001b[0m\u001b[0musername\u001b[0m\u001b[0;34m,\u001b[0m \u001b[0mpassword\u001b[0m \u001b[0;34m=\u001b[0m \u001b[0mconfig\u001b[0m\u001b[0;34m.\u001b[0m\u001b[0mpassword\u001b[0m\u001b[0;34m)\u001b[0m\u001b[0;34m\u001b[0m\u001b[0;34m\u001b[0m\u001b[0m\n\u001b[0m\u001b[1;32m      4\u001b[0m q1 = f'''SELECT * from sales where date(date) = ''\n\u001b[1;32m      5\u001b[0m     \u001b[0;32mand\u001b[0m \u001b[0mstore_loc\u001b[0m \u001b[0;34m=\u001b[0m \u001b[0;34m'Atlanta'\u001b[0m\u001b[0;34m\u001b[0m\u001b[0;34m\u001b[0m\u001b[0m\n",
      "\u001b[0;32m~/anaconda3/envs/PythonData/lib/python3.6/site-packages/psycopg2/__init__.py\u001b[0m in \u001b[0;36mconnect\u001b[0;34m(dsn, connection_factory, cursor_factory, **kwargs)\u001b[0m\n\u001b[1;32m    128\u001b[0m \u001b[0;34m\u001b[0m\u001b[0m\n\u001b[1;32m    129\u001b[0m     \u001b[0mdsn\u001b[0m \u001b[0;34m=\u001b[0m \u001b[0m_ext\u001b[0m\u001b[0;34m.\u001b[0m\u001b[0mmake_dsn\u001b[0m\u001b[0;34m(\u001b[0m\u001b[0mdsn\u001b[0m\u001b[0;34m,\u001b[0m \u001b[0;34m**\u001b[0m\u001b[0mkwargs\u001b[0m\u001b[0;34m)\u001b[0m\u001b[0;34m\u001b[0m\u001b[0;34m\u001b[0m\u001b[0m\n\u001b[0;32m--> 130\u001b[0;31m     \u001b[0mconn\u001b[0m \u001b[0;34m=\u001b[0m \u001b[0m_connect\u001b[0m\u001b[0;34m(\u001b[0m\u001b[0mdsn\u001b[0m\u001b[0;34m,\u001b[0m \u001b[0mconnection_factory\u001b[0m\u001b[0;34m=\u001b[0m\u001b[0mconnection_factory\u001b[0m\u001b[0;34m,\u001b[0m \u001b[0;34m**\u001b[0m\u001b[0mkwasync\u001b[0m\u001b[0;34m)\u001b[0m\u001b[0;34m\u001b[0m\u001b[0;34m\u001b[0m\u001b[0m\n\u001b[0m\u001b[1;32m    131\u001b[0m     \u001b[0;32mif\u001b[0m \u001b[0mcursor_factory\u001b[0m \u001b[0;32mis\u001b[0m \u001b[0;32mnot\u001b[0m \u001b[0;32mNone\u001b[0m\u001b[0;34m:\u001b[0m\u001b[0;34m\u001b[0m\u001b[0;34m\u001b[0m\u001b[0m\n\u001b[1;32m    132\u001b[0m         \u001b[0mconn\u001b[0m\u001b[0;34m.\u001b[0m\u001b[0mcursor_factory\u001b[0m \u001b[0;34m=\u001b[0m \u001b[0mcursor_factory\u001b[0m\u001b[0;34m\u001b[0m\u001b[0;34m\u001b[0m\u001b[0m\n",
      "\u001b[0;31mOperationalError\u001b[0m: invalid port number: \"someport\"\n"
     ]
    }
   ],
   "source": [
    "import psycopg2 as ps2\n",
    "\n",
    "conn = ps2.connect(dbname = 'somedb', host = 'somehost', port = 'someport', user = config.username, password = config.password)\n",
    "\n",
    "query1 = f'''SELECT * from sales where date(date) = ''\n",
    "    and store_loc = 'Atlanta'\n",
    "    '''\n",
    "data = sqlio.read_sql_query(qeuery1, conn)"
   ]
  },
  {
   "cell_type": "code",
   "execution_count": null,
   "metadata": {},
   "outputs": [],
   "source": [
    "import biquery as bq\n",
    "\n",
    "conn = bq.connect(project = 'NAMEOFPROJECT', BQ.key = 'YOURAPIKEYHERE')\n",
    "\n",
    "query1 = f'''SELECT * from sales where date(date) = ''\n",
    "    and store_loc = 'Atlanta'\n",
    "    '''\n",
    "data = sqlio.read_sql_query(qeuery1, conn)"
   ]
  }
 ],
 "metadata": {
  "kernelspec": {
   "display_name": "Python [conda env:PythonData] *",
   "language": "python",
   "name": "conda-env-PythonData-py"
  },
  "language_info": {
   "codemirror_mode": {
    "name": "ipython",
    "version": 3
   },
   "file_extension": ".py",
   "mimetype": "text/x-python",
   "name": "python",
   "nbconvert_exporter": "python",
   "pygments_lexer": "ipython3",
   "version": "3.6.8"
  }
 },
 "nbformat": 4,
 "nbformat_minor": 4
}
